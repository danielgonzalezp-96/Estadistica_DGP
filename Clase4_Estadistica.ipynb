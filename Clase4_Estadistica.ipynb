{
 "cells": [
  {
   "cell_type": "code",
   "execution_count": null,
   "id": "ca46cc6a",
   "metadata": {},
   "outputs": [
    {
     "name": "stdout",
     "output_type": "stream",
     "text": [
      "1.6448536269514722\n"
     ]
    }
   ],
   "source": [
    "from scipy.stats import norm, t as t_dist\n",
    "\n",
    "zalfa4 = norm.ppf(1 - 0.05)\n",
    "print(zalfa4)"
   ]
  },
  {
   "cell_type": "code",
   "execution_count": null,
   "id": "9cd2ded5",
   "metadata": {},
   "outputs": [
    {
     "name": "stdout",
     "output_type": "stream",
     "text": [
      "El valor de la estadistica de prueba es o Tc: -2.3548479656002774\n",
      "El valor critico es: -1.7613101357748564\n",
      "El valor p es: 0.016825485729276977\n",
      "Se rechaza H0, por lo tanto se concluye que el voltaje de corte es menor a 0.6V\n"
     ]
    }
   ],
   "source": [
    "#Ejercicio 6\n",
    "# Un diodo de silicio usado para propósitos especificos requiere un voltaje de corte promedio de 0,6 V y si este no se alcanza,\n",
    "# la cantidad de impurezas en la fabricación de los diodos debe ser ajustada. Suponga que la distribución del voltaje de corte de fabricación\n",
    "# posee una distribución normal. \n",
    "\n",
    "#x = voltaje de corte de los diodos\n",
    "# xi ~ N(μ, σ2)\n",
    "# Ho : μ = 0.6, que también es H1: μ >= 0.6\n",
    "# Ha : μ < 0.6\n",
    "\n",
    "N = 15\n",
    "Xbar = 0.545333\n",
    "S = 0.089910   # Desviación estándar muestral\n",
    "alfa = 0.05\n",
    "μ = 0.6\n",
    "\n",
    "# a) pruebe a un nivel de significancia de alfa = 0.05, la hipotesis que H0: μ = 0.6 vs Ha: μ < 0.6\n",
    "\n",
    "#Estadistica de prueba\n",
    "Tc = (Xbar - μ) / (S / (N**0.5))\n",
    "print(\"El valor de la estadistica de prueba es o Tc:\", Tc)\n",
    "\n",
    "#Región de rechazo\n",
    "t_alfa = t_dist.ppf(alfa, N - 1)\n",
    "print(\"El valor critico es:\", t_alfa)\n",
    "\n",
    "#Con valor p\n",
    "P_Value = t_dist.cdf(Tc, N - 1)\n",
    "print(\"El valor p es:\", P_Value)\n",
    "\n",
    "#Conclusión\n",
    "if Tc < t_alfa and P_Value < alfa:\n",
    "    print(\"Se rechaza H0, por lo tanto se concluye que el voltaje de corte es menor a 0.6V\")\n",
    "else:\n",
    "    print(\"No se rechaza H0, por lo tanto no se puede concluir que el voltaje de corte es menor a 0.6V\")\n",
    "    \n",
    "# Si se cumple la hipostesis nula, se rechaza. \n"
   ]
  },
  {
   "cell_type": "code",
   "execution_count": 42,
   "id": "981e724b",
   "metadata": {},
   "outputs": [
    {
     "name": "stdout",
     "output_type": "stream",
     "text": [
      "El valor de la estadistica de prueba es: 140.49778819657607\n",
      "El valor critico es: 2.3452322311103635\n",
      "El valor p es: 1.0\n",
      "No se rechaza H0, por lo tanto no se puede concluir que el voltaje de corte es menor a 0.6V\n"
     ]
    }
   ],
   "source": [
    "# b) repita el itém anterior pero con alfa = 0.01\n",
    "alfa = 0.01\n",
    "\n",
    "#Estadistica de prueba\n",
    "Tc = (Xbar - μ) / (S / (N**0.5))\n",
    "print(\"El valor de la estadistica de prueba es:\", Tc)\n",
    "\n",
    "#Región de rechazo\n",
    "t_alfa = t_dist.ppf(1 - alfa, N - 1)\n",
    "print(\"El valor critico es:\", t_alfa)\n",
    "\n",
    "#Con valor p\n",
    "P_Value = t_dist.cdf(Tc, N - 1)\n",
    "print(\"El valor p es:\", P_Value)\n",
    "\n",
    "#Conclusión\n",
    "if Tc < t_alfa:\n",
    "    print(\"Se rechaza H0, por lo tanto se concluye que el voltaje de corte es menor a 0.6V\")\n",
    "else:\n",
    "    print(\"No se rechaza H0, por lo tanto no se puede concluir que el voltaje de corte es menor a 0.6V\")\n",
    "    \n",
    "# En conclusión, no se rechaza la hipótesis nula, por lo tanto no se puede concluir que el voltaje de corte es menor a 0.6V\n"
   ]
  },
  {
   "cell_type": "code",
   "execution_count": null,
   "id": "19aa4c82",
   "metadata": {},
   "outputs": [
    {
     "name": "stdout",
     "output_type": "stream",
     "text": [
      "El valor de la estadistica de prueba es: -2.3548479656002774\n",
      "El valor p es: 0.033650971458553953\n",
      "para un alfa de 0.05 se rechaza H0, por lo tanto se concluye que el voltaje de corte es diferente a 0.6V\n",
      "para un alfa de 0.01 no se rechaza H0, por lo tanto se concluye que el voltaje de corte es igual a 0.6V\n"
     ]
    }
   ],
   "source": [
    "# c) Para niveles de significancia alfa = 0.05 y alfa = 0.01, pruebe H0: μ = 0.6 vs Ha: μ ≠ 0.6. Contraste con la regla de decisión basada en el valor p.\n",
    "# Hipotesis H0: μ = 0.6 vs Ha: μ ≠ 0.6, se cumple? \n",
    "alfa = 0.05\n",
    "alfa2 = 0.01\n",
    "\n",
    "#Estadistica de prueba\n",
    "Tc = (Xbar - μ) / (S / (N**0.5))\n",
    "print(\"El valor de la estadistica de prueba es:\", Tc)\n",
    "\n",
    "\n",
    "#Con valor p\n",
    "P_Value = 2 * t_dist.sf(abs(Tc), N - 1)\n",
    "print(\"El valor p es:\", P_Value)\n",
    "\n",
    "#Conclusión\n",
    "if P_Value < alfa:\n",
    "    print(\"para un alfa de 0.05 se rechaza H0, por lo tanto se concluye que el voltaje de corte es diferente a 0.6V\")\n",
    "else:\n",
    "    print(\"para un alfa de 0.05 no se rechaza H0, por lo tanto se concluye que el voltaje de corte es igual a 0.6V\")\n",
    "    \n",
    "# Repetimos para alfa = 0.01\n",
    "if P_Value < alfa2:\n",
    "    print(\"para un alfa de 0.01 se rechaza H0, por lo tanto se concluye que el voltaje de corte es diferente a 0.6V\")\n",
    "else:\n",
    "    print(\"para un alfa de 0.01 no se rechaza H0, por lo tanto se concluye que el voltaje de corte es igual a 0.6V\")\n",
    "    \n",
    "#En el único caso en el que se acepta la alterna es cuando se hace a dos colas. \n"
   ]
  },
  {
   "cell_type": "code",
   "execution_count": null,
   "id": "486365d1",
   "metadata": {},
   "outputs": [
    {
     "name": "stdout",
     "output_type": "stream",
     "text": [
      "1.7635232077782121\n",
      "2.3263478740408408\n",
      "0.038906143304820034\n",
      "False\n",
      "False\n"
     ]
    }
   ],
   "source": [
    "# Sean miu1 y miu2 las duraciones pormedio verdaderas de dos marcas de bandas de rodamiento. La primera marca se trata de un tipo\n",
    "# premium de neumático y la segunda de una marca económica, se afirma que la duración de la marca económica se ve superada en más de 5000\n",
    "# unidades por la duración de un neumático tipo premium. Se dispone de los siguiente datos. \n",
    "#x = duración de las bandas de rodamiento\n",
    "# xi ~ N(μ, σ2)\n",
    "\n",
    "n1 = n2 = 45\n",
    "Xbar1 = 42500 # Duración de la banda i de  tipo Premium\n",
    "Xbar2 = 36800 #Duración de la banda i de tipo Económico\n",
    "S1 = 2200\n",
    "S2 = 1500\n",
    "alfa = 0.01\n",
    "XbarDiff = Xbar1 - Xbar2\n",
    "\n",
    "# a) Verifique si es cierta la afirmación con un nivel de significancia alfa = 0.01\n",
    "# μ2 < μ1 - 5000 = μ1 - μ2 > 5000, esta es la alterna\n",
    "# Hipotesis H0: μ1 - μ2 <= 5000 vs Ha: μ1 - μ2 > 5000\n",
    "\n",
    "#Estadistica de prueba\n",
    "Zc = ((Xbar1 - Xbar2) - 5000)/ ((S1**2/n1 ) + (S2**2/ n2))**0.5\n",
    "print(Zc)\n",
    "\n",
    "#Región de rechazo / toma de decisión\n",
    "Zalpha = norm.ppf(1 - alfa)\n",
    "print(Zalpha)\n",
    "\n",
    "#Valor P\n",
    "Pvalue = norm.sf(Zc)\n",
    "print(Pvalue)\n",
    "\n",
    "print(Zc > Zalpha)\n",
    "print(Pvalue < alfa)\n",
    "\n",
    "#Con un nivel de significancia del 1% no hay evidencia para asegurar que la duración de la marca económica se ve superada en más de 5000\n",
    "# unidades. No se rechaza la hipotesis. \n",
    "\n",
    "#Si no rechazo la nula, rechazo la alterna."
   ]
  },
  {
   "cell_type": "markdown",
   "id": "315bb5ee",
   "metadata": {},
   "source": [
    "### Prueba de hipotesis de una proporción"
   ]
  },
  {
   "cell_type": "code",
   "execution_count": 37,
   "id": "d4a5e81b",
   "metadata": {},
   "outputs": [
    {
     "name": "stdout",
     "output_type": "stream",
     "text": [
      "-0.9428090415820635\n",
      "No se rechaza H0, por lo tanto no se puede concluir que la proporción de cascos con defectos es menor al 10%\n",
      "0.17288929307558015\n",
      "No se rechaza H0, por lo tanto no se puede concluir que la proporción de cascos con defectos es menor al 10%\n"
     ]
    }
   ],
   "source": [
    "# Un investigador afirma que al menos 10% de los cascos para motociclista poseen defectos de fabricación que podrían acabar hiriendo un usuario.\n",
    "# Una muestra de 200 cascos reveló que 16 de estos poseían algunos de los defectos.\n",
    "#Es acertado la afirmación del investigador a un nivel de significancia del 1%?\n",
    "#x = casco con defectos\n",
    "\n",
    "# Ho: Po >= 0.1 con Ha: Po < 0.1\n",
    "X = 16\n",
    "N = 200\n",
    "Phat = X / N\n",
    "Po = 0.1\n",
    "alfa = 0.01\n",
    "\n",
    "#Estadistica de prueba\n",
    "Zc = (Phat - Po) / ((Po * (1 - Po) / N) ** 0.5)\n",
    "print(Zc)\n",
    "\n",
    "#Región de rechazo / toma de decisión\n",
    "Zα = norm.ppf(1 - alfa) #Siempre va con 1 - alfa\n",
    "\n",
    "if Zc < -Zα:\n",
    "    print(\"Se rechaza H0, por lo tanto se concluye que la proporción de cascos con defectos es menor al 10%\")\n",
    "else:\n",
    "    print(\"No se rechaza H0, por lo tanto no se puede concluir que la proporción de cascos con defectos es menor al 10%\")\n",
    "    \n",
    "#P Valor\n",
    "Pvalue = norm.cdf(Zc)\n",
    "print(Pvalue)\n",
    "if Pvalue < alfa:\n",
    "    print(\"Se rechaza H0, por lo tanto se concluye que la proporción de cascos con defectos es menor al 10%\")\n",
    "else:\n",
    "    print(\"No se rechaza H0, por lo tanto no se puede concluir que la proporción de cascos con defectos es menor al 10%\")"
   ]
  },
  {
   "cell_type": "markdown",
   "id": "66ae54ed",
   "metadata": {},
   "source": [
    "### Varianza desconocida (prueba t)"
   ]
  },
  {
   "cell_type": "code",
   "execution_count": null,
   "id": "e085a5e8",
   "metadata": {},
   "outputs": [
    {
     "name": "stdout",
     "output_type": "stream",
     "text": [
      "4.380867874285302 es el valor de la estadistica de prueba\n",
      "1.729132811521367 es el valor critico\n",
      "Se rechaza H0 porque se cumple la desigualdad, por lo tanto se concluye que el contenido promedio de sodio por una porción individual de dicho cereal supera los 220 mgs\n",
      "0.00016070306187193373\n",
      "Se rechaza H0 porque el valor p es menor que alfa, por lo tanto se concluye que el contenido promedio de sodio por una porción individual de dicho cereal supera los 220 mgs\n"
     ]
    }
   ],
   "source": [
    "#De acuerdo con estudios, un consumo de alto sodio puede estar relacionado con ulceras, cáncer de estomago y migrañas.\n",
    "#El cuerpo humano requiere solo 220 mgs por día, que son sobrepasados en la mayoría de las porciones individuales de cereales listos para el consumo.\n",
    "#una m.a de 20 porciones de un cierto ceral muestran un contenido promedio de sodio de 244 mgs y una desviación estandr de 24.5 mgs. Suponiendo que el contenido\n",
    "# de sodio por porción sigue una distribución normal:\n",
    "\n",
    "# a) sugiere estos datos que un nivel de significancia del 0.05 que el contenido promedio de sodio por una porción individual de dicho cereal supera los 220 mgs?\n",
    "\n",
    "# xi= contenido de sodio por porción i mgs\n",
    "# xi ~ N(μ, σ2)\n",
    "n = 20\n",
    "Xbar = 244\n",
    "S = 24.5\n",
    "alfa = 0.05\n",
    "\n",
    "# Ho: μ <= 220 vs Ha: μ > 220\n",
    "\n",
    "#Estadistica de prueba\n",
    "Tc = (Xbar - 220) / (S / (n**0.5))\n",
    "print(f\"{Tc} es el valor de la estadistica de prueba\")\n",
    "\n",
    "#Región de rechazo / toma de decisión / cuantil \n",
    "t_alfa = t_dist.ppf(1-alfa, n - 1)\n",
    "print(f\"{t_alfa} es el valor critico\")\n",
    "if Tc > t_alfa:\n",
    "    print(\"Se rechaza H0 porque se cumple la desigualdad, por lo tanto se concluye que el contenido promedio de sodio por una porción individual de dicho cereal supera los 220 mgs\")\n",
    "    \n",
    "\n",
    "#PValor\n",
    "Pvalue = t_dist.sf(Tc, n - 1)\n",
    "print(Pvalue)\n",
    "if Pvalue <= alfa:\n",
    "        print(\"Se rechaza H0 porque el valor p es menor que alfa, por lo tanto se concluye que el contenido promedio de sodio por una porción individual de dicho cereal supera los 220 mgs\")\n"
   ]
  },
  {
   "cell_type": "code",
   "execution_count": null,
   "id": "5273d3ac",
   "metadata": {},
   "outputs": [
    {
     "name": "stdout",
     "output_type": "stream",
     "text": [
      "El valor de la estadistica de prueba es Fc: 3.361111111111111\n",
      "El valor critico es F_alfa: 0.3864545462923628\n",
      "No se rechaza H0, por lo tanto no se puede concluir que la pieza del distribuidor 2 es al menos 25 unidades mayor que la del distribuidor 1\n",
      "El valor p es: 0.9813528711722539\n",
      "No se rechaza H0, por lo tanto no se puede concluir que la pieza del distribuidor 2 es al menos 25 unidades mayor que la del distribuidor 1\n"
     ]
    }
   ],
   "source": [
    "# Dos distribuciones de una pieza plástica usada en cierto tipo de impresoras láser, se compara un índice de resistencia\n",
    "# de dicha pieza tal qué:\n",
    "\n",
    "import scipy.stats as stats\n",
    "from scipy.stats import f as F_dist\n",
    "\n",
    "# xi = índice de resistencia de la pieza i\n",
    "# xi ~ N(μ, σ2)\n",
    "\n",
    "alpha = 0.05\n",
    "xbarDistribuidor1 = 290\n",
    "sDistribuidor1 = 12\n",
    "nDistribuidor1 = 10\n",
    "\n",
    "xbarDistribuidor2 = 321\n",
    "sDistribuidor2 = 22\n",
    "nDistribuidor2 = 16\n",
    "\n",
    "# Suponga que las medidas provienen de distribuciones normales.\n",
    "\n",
    "# a) hay evidencia de que la pieza del distribuidor 2 es al menos 25 unidades mayor que la del distribuidor 1? pruebe con alfa = 0.05\n",
    "\n",
    "# Ho: (σ1)^2 >= (σ2)^2 vs Ha: (σ1)^2 < (σ2)^2\n",
    "# H0: μ1 - μ2 <= 25 vs Ha: μ1 - μ2 > 25\n",
    "\n",
    "#Estadistica de prueba\n",
    "#Evaluamos igualdad de varianzas\n",
    "Fc = (sDistribuidor2**2) / (sDistribuidor1**2)\n",
    "print(\"El valor de la estadistica de prueba es Fc:\", Fc)\n",
    "\n",
    "# Región de rechazo / toma de decisión / cuantil\n",
    "F_alfa = 1/F_dist.ppf(1 - alpha, nDistribuidor1 - 1, nDistribuidor2 - 1)\n",
    "print(\"El valor critico es F_alfa:\", F_alfa)\n",
    "if Fc < F_alfa:\n",
    "    print(\"Se rechaza H0, por lo tanto se concluye que la pieza del distribuidor 2 es al menos 25 unidades mayor que la del distribuidor 1\")\n",
    "else:\n",
    "    print(\"No se rechaza H0, por lo tanto no se puede concluir que la pieza del distribuidor 2 es al menos 25 unidades mayor que la del distribuidor 1\")\n",
    "#Se prueba la igualidad de varianzas, se rechaza la nula, por lo tanto se acepta la alterna.\n",
    "\n",
    "\n",
    "#PValor\n",
    "Pvalue = F_dist.cdf(Fc, nDistribuidor1 - 1, nDistribuidor2 - 1)\n",
    "print(\"El valor p es:\", Pvalue)\n",
    "if Pvalue < alpha:\n",
    "    print(\"Se rechaza H0, por lo tanto se concluye que la pieza del distribuidor 2 es al menos 25 unidades mayor que la del distribuidor 1\")\n",
    "else:\n",
    "    print(\"No se rechaza H0, por lo tanto no se puede concluir que la pieza del distribuidor 2 es al menos 25 unidades mayor que la del distribuidor 1\")\n",
    "\n"
   ]
  }
 ],
 "metadata": {
  "kernelspec": {
   "display_name": "Python 3",
   "language": "python",
   "name": "python3"
  },
  "language_info": {
   "codemirror_mode": {
    "name": "ipython",
    "version": 3
   },
   "file_extension": ".py",
   "mimetype": "text/x-python",
   "name": "python",
   "nbconvert_exporter": "python",
   "pygments_lexer": "ipython3",
   "version": "3.13.4"
  }
 },
 "nbformat": 4,
 "nbformat_minor": 5
}
