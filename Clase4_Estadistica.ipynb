{
 "cells": [
  {
   "cell_type": "code",
   "execution_count": null,
   "id": "ca46cc6a",
   "metadata": {},
   "outputs": [
    {
     "name": "stdout",
     "output_type": "stream",
     "text": [
      "1.6448536269514722\n"
     ]
    }
   ],
   "source": [
    "from scipy.stats import norm, t as t_dist\n",
    "\n",
    "zalfa4 = norm.ppf(1 - 0.05)\n",
    "print(zalfa4)"
   ]
  },
  {
   "cell_type": "code",
   "execution_count": null,
   "id": "9cd2ded5",
   "metadata": {},
   "outputs": [
    {
     "name": "stdout",
     "output_type": "stream",
     "text": [
      "El valor de la estadistica de prueba es o Tc: -2.3548479656002774\n",
      "El valor critico es: -1.7613101357748564\n",
      "El valor p es: 0.016825485729276977\n",
      "Se rechaza H0, por lo tanto se concluye que el voltaje de corte es menor a 0.6V\n"
     ]
    }
   ],
   "source": [
    "#Ejercicio 6\n",
    "# Un diodo de silicio usado para propósitos especificos requiere un voltaje de corte promedio de 0,6 V y si este no se alcanza,\n",
    "# la cantidad de impurezas en la fabricación de los diodos debe ser ajustada. Suponga que la distribución del voltaje de corte de fabricación\n",
    "# posee una distribución normal. \n",
    "\n",
    "#x = voltaje de corte de los diodos\n",
    "# xi ~ N(μ, σ2)\n",
    "# Ho : μ = 0.6, que también es H1: μ >= 0.6\n",
    "# Ha : μ < 0.6\n",
    "\n",
    "N = 15\n",
    "Xbar = 0.545333\n",
    "S = 0.089910   # Desviación estándar muestral\n",
    "alfa = 0.05\n",
    "μ = 0.6\n",
    "\n",
    "# a) pruebe a un nivel de significancia de alfa = 0.05, la hipotesis que H0: μ = 0.6 vs Ha: μ < 0.6\n",
    "\n",
    "#Estadistica de prueba\n",
    "Tc = (Xbar - μ) / (S / (N**0.5))\n",
    "print(\"El valor de la estadistica de prueba es o Tc:\", Tc)\n",
    "\n",
    "#Región de rechazo\n",
    "t_alfa = t_dist.ppf(alfa, N - 1)\n",
    "print(\"El valor critico es:\", t_alfa)\n",
    "\n",
    "#Con valor p\n",
    "P_Value = t_dist.cdf(Tc, N - 1)\n",
    "print(\"El valor p es:\", P_Value)\n",
    "\n",
    "#Conclusión\n",
    "if Tc < t_alfa and P_Value < alfa:\n",
    "    print(\"Se rechaza H0, por lo tanto se concluye que el voltaje de corte es menor a 0.6V\")\n",
    "else:\n",
    "    print(\"No se rechaza H0, por lo tanto no se puede concluir que el voltaje de corte es menor a 0.6V\")\n",
    "    \n",
    "# Si se cumple la hipostesis nula, se rechaza. \n"
   ]
  },
  {
   "cell_type": "code",
   "execution_count": 42,
   "id": "981e724b",
   "metadata": {},
   "outputs": [
    {
     "name": "stdout",
     "output_type": "stream",
     "text": [
      "El valor de la estadistica de prueba es: 140.49778819657607\n",
      "El valor critico es: 2.3452322311103635\n",
      "El valor p es: 1.0\n",
      "No se rechaza H0, por lo tanto no se puede concluir que el voltaje de corte es menor a 0.6V\n"
     ]
    }
   ],
   "source": [
    "# b) repita el itém anterior pero con alfa = 0.01\n",
    "alfa = 0.01\n",
    "\n",
    "#Estadistica de prueba\n",
    "Tc = (Xbar - μ) / (S / (N**0.5))\n",
    "print(\"El valor de la estadistica de prueba es:\", Tc)\n",
    "\n",
    "#Región de rechazo\n",
    "t_alfa = t_dist.ppf(1 - alfa, N - 1)\n",
    "print(\"El valor critico es:\", t_alfa)\n",
    "\n",
    "#Con valor p\n",
    "P_Value = t_dist.cdf(Tc, N - 1)\n",
    "print(\"El valor p es:\", P_Value)\n",
    "\n",
    "#Conclusión\n",
    "if Tc < t_alfa:\n",
    "    print(\"Se rechaza H0, por lo tanto se concluye que el voltaje de corte es menor a 0.6V\")\n",
    "else:\n",
    "    print(\"No se rechaza H0, por lo tanto no se puede concluir que el voltaje de corte es menor a 0.6V\")\n",
    "    \n",
    "# En conclusión, no se rechaza la hipótesis nula, por lo tanto no se puede concluir que el voltaje de corte es menor a 0.6V\n"
   ]
  },
  {
   "cell_type": "code",
   "execution_count": null,
   "id": "19aa4c82",
   "metadata": {},
   "outputs": [
    {
     "name": "stdout",
     "output_type": "stream",
     "text": [
      "El valor de la estadistica de prueba es: -2.3548479656002774\n",
      "El valor p es: 0.033650971458553953\n",
      "para un alfa de 0.05 se rechaza H0, por lo tanto se concluye que el voltaje de corte es diferente a 0.6V\n",
      "para un alfa de 0.01 no se rechaza H0, por lo tanto se concluye que el voltaje de corte es igual a 0.6V\n"
     ]
    }
   ],
   "source": [
    "# c) Para niveles de significancia alfa = 0.05 y alfa = 0.01, pruebe H0: μ = 0.6 vs Ha: μ ≠ 0.6. Contraste con la regla de decisión basada en el valor p.\n",
    "# Hipotesis H0: μ = 0.6 vs Ha: μ ≠ 0.6, se cumple? \n",
    "alfa = 0.05\n",
    "alfa2 = 0.01\n",
    "\n",
    "#Estadistica de prueba\n",
    "Tc = (Xbar - μ) / (S / (N**0.5))\n",
    "print(\"El valor de la estadistica de prueba es:\", Tc)\n",
    "\n",
    "\n",
    "#Con valor p\n",
    "P_Value = 2 * t_dist.sf(abs(Tc), N - 1)\n",
    "print(\"El valor p es:\", P_Value)\n",
    "\n",
    "#Conclusión\n",
    "if P_Value < alfa:\n",
    "    print(\"para un alfa de 0.05 se rechaza H0, por lo tanto se concluye que el voltaje de corte es diferente a 0.6V\")\n",
    "else:\n",
    "    print(\"para un alfa de 0.05 no se rechaza H0, por lo tanto se concluye que el voltaje de corte es igual a 0.6V\")\n",
    "    \n",
    "# Repetimos para alfa = 0.01\n",
    "if P_Value < alfa2:\n",
    "    print(\"para un alfa de 0.01 se rechaza H0, por lo tanto se concluye que el voltaje de corte es diferente a 0.6V\")\n",
    "else:\n",
    "    print(\"para un alfa de 0.01 no se rechaza H0, por lo tanto se concluye que el voltaje de corte es igual a 0.6V\")\n",
    "    \n",
    "#En el único caso en el que se acepta la alterna es cuando se hace a dos colas. \n"
   ]
  },
  {
   "cell_type": "code",
   "execution_count": null,
   "id": "486365d1",
   "metadata": {},
   "outputs": [
    {
     "name": "stdout",
     "output_type": "stream",
     "text": [
      "1.7635232077782121\n",
      "2.3263478740408408\n",
      "0.038906143304820034\n",
      "False\n",
      "False\n"
     ]
    }
   ],
   "source": [
    "# Sean miu1 y miu2 las duraciones pormedio verdaderas de dos marcas de bandas de rodamiento. La primera marca se trata de un tipo\n",
    "# premium de neumático y la segunda de una marca económica, se afirma que la duración de la marca económica se ve superada en más de 5000\n",
    "# unidades por la duración de un neumático tipo premium. Se dispone de los siguiente datos. \n",
    "#x = duración de las bandas de rodamiento\n",
    "# xi ~ N(μ, σ2)\n",
    "\n",
    "n1 = n2 = 45\n",
    "Xbar1 = 42500 # Duración de la banda i de  tipo Premium\n",
    "Xbar2 = 36800 #Duración de la banda i de tipo Económico\n",
    "S1 = 2200\n",
    "S2 = 1500\n",
    "alfa = 0.01\n",
    "XbarDiff = Xbar1 - Xbar2\n",
    "\n",
    "# a) Verifique si es cierta la afirmación con un nivel de significancia alfa = 0.01\n",
    "# μ2 < μ1 - 5000 = μ1 - μ2 > 5000, esta es la alterna\n",
    "# Hipotesis H0: μ1 - μ2 <= 5000 vs Ha: μ1 - μ2 > 5000\n",
    "\n",
    "#Estadistica de prueba\n",
    "Zc = ((Xbar1 - Xbar2) - 5000)/ ((S1**2/n1 ) + (S2**2/ n2))**0.5\n",
    "print(Zc)\n",
    "\n",
    "#Región de rechazo / toma de decisión\n",
    "Zalpha = norm.ppf(1 - alfa)\n",
    "print(Zalpha)\n",
    "\n",
    "#Valor P\n",
    "Pvalue = norm.sf(Zc)\n",
    "print(Pvalue)\n",
    "\n",
    "print(Zc > Zalpha)\n",
    "print(Pvalue < alfa)\n",
    "\n",
    "#Con un nivel de significancia del 1% no hay evidencia para asegurar que la duración de la marca económica se ve superada en más de 5000\n",
    "# unidades. No se rechaza la hipotesis. \n",
    "\n",
    "#Si no rechazo la nula, rechazo la alterna."
   ]
  },
  {
   "cell_type": "markdown",
   "id": "315bb5ee",
   "metadata": {},
   "source": [
    "### Prueba de hipotesis de una proporción"
   ]
  },
  {
   "cell_type": "code",
   "execution_count": 37,
   "id": "d4a5e81b",
   "metadata": {},
   "outputs": [
    {
     "name": "stdout",
     "output_type": "stream",
     "text": [
      "-0.9428090415820635\n",
      "No se rechaza H0, por lo tanto no se puede concluir que la proporción de cascos con defectos es menor al 10%\n",
      "0.17288929307558015\n",
      "No se rechaza H0, por lo tanto no se puede concluir que la proporción de cascos con defectos es menor al 10%\n"
     ]
    }
   ],
   "source": [
    "# Un investigador afirma que al menos 10% de los cascos para motociclista poseen defectos de fabricación que podrían acabar hiriendo un usuario.\n",
    "# Una muestra de 200 cascos reveló que 16 de estos poseían algunos de los defectos.\n",
    "#Es acertado la afirmación del investigador a un nivel de significancia del 1%?\n",
    "#x = casco con defectos\n",
    "\n",
    "# Ho: Po >= 0.1 con Ha: Po < 0.1\n",
    "X = 16\n",
    "N = 200\n",
    "Phat = X / N\n",
    "Po = 0.1\n",
    "alfa = 0.01\n",
    "\n",
    "#Estadistica de prueba\n",
    "Zc = (Phat - Po) / ((Po * (1 - Po) / N) ** 0.5)\n",
    "print(Zc)\n",
    "\n",
    "#Región de rechazo / toma de decisión\n",
    "Zα = norm.ppf(1 - alfa) #Siempre va con 1 - alfa\n",
    "\n",
    "if Zc < -Zα:\n",
    "    print(\"Se rechaza H0, por lo tanto se concluye que la proporción de cascos con defectos es menor al 10%\")\n",
    "else:\n",
    "    print(\"No se rechaza H0, por lo tanto no se puede concluir que la proporción de cascos con defectos es menor al 10%\")\n",
    "    \n",
    "#P Valor\n",
    "Pvalue = norm.cdf(Zc)\n",
    "print(Pvalue)\n",
    "if Pvalue < alfa:\n",
    "    print(\"Se rechaza H0, por lo tanto se concluye que la proporción de cascos con defectos es menor al 10%\")\n",
    "else:\n",
    "    print(\"No se rechaza H0, por lo tanto no se puede concluir que la proporción de cascos con defectos es menor al 10%\")"
   ]
  },
  {
   "cell_type": "markdown",
   "id": "66ae54ed",
   "metadata": {},
   "source": [
    "### Varianza desconocida (prueba t)"
   ]
  },
  {
   "cell_type": "code",
   "execution_count": null,
   "id": "e085a5e8",
   "metadata": {},
   "outputs": [
    {
     "name": "stdout",
     "output_type": "stream",
     "text": [
      "4.380867874285302 es el valor de la estadistica de prueba\n",
      "1.729132811521367 es el valor critico\n",
      "Se rechaza H0 porque se cumple la desigualdad, por lo tanto se concluye que el contenido promedio de sodio por una porción individual de dicho cereal supera los 220 mgs\n",
      "0.00016070306187193373\n",
      "Se rechaza H0 porque el valor p es menor que alfa, por lo tanto se concluye que el contenido promedio de sodio por una porción individual de dicho cereal supera los 220 mgs\n"
     ]
    }
   ],
   "source": [
    "#De acuerdo con estudios, un consumo de alto sodio puede estar relacionado con ulceras, cáncer de estomago y migrañas.\n",
    "#El cuerpo humano requiere solo 220 mgs por día, que son sobrepasados en la mayoría de las porciones individuales de cereales listos para el consumo.\n",
    "#una m.a de 20 porciones de un cierto ceral muestran un contenido promedio de sodio de 244 mgs y una desviación estandr de 24.5 mgs. Suponiendo que el contenido\n",
    "# de sodio por porción sigue una distribución normal:\n",
    "\n",
    "# a) sugiere estos datos que un nivel de significancia del 0.05 que el contenido promedio de sodio por una porción individual de dicho cereal supera los 220 mgs?\n",
    "\n",
    "# xi= contenido de sodio por porción i mgs\n",
    "# xi ~ N(μ, σ2)\n",
    "n = 20\n",
    "Xbar = 244\n",
    "S = 24.5\n",
    "alfa = 0.05\n",
    "\n",
    "# Ho: μ <= 220 vs Ha: μ > 220\n",
    "\n",
    "#Estadistica de prueba\n",
    "Tc = (Xbar - 220) / (S / (n**0.5))\n",
    "print(f\"{Tc} es el valor de la estadistica de prueba\")\n",
    "\n",
    "#Región de rechazo / toma de decisión / cuantil \n",
    "t_alfa = t_dist.ppf(1-alfa, n - 1)\n",
    "print(f\"{t_alfa} es el valor critico\")\n",
    "if Tc > t_alfa:\n",
    "    print(\"Se rechaza H0 porque se cumple la desigualdad, por lo tanto se concluye que el contenido promedio de sodio por una porción individual de dicho cereal supera los 220 mgs\")\n",
    "    \n",
    "\n",
    "#PValor\n",
    "Pvalue = t_dist.sf(Tc, n - 1)\n",
    "print(Pvalue)\n",
    "if Pvalue <= alfa:\n",
    "        print(\"Se rechaza H0 porque el valor p es menor que alfa, por lo tanto se concluye que el contenido promedio de sodio por una porción individual de dicho cereal supera los 220 mgs\")\n"
   ]
  },
  {
   "cell_type": "code",
   "execution_count": null,
   "id": "5273d3ac",
   "metadata": {},
   "outputs": [
    {
     "name": "stdout",
     "output_type": "stream",
     "text": [
      "El valor de la estadistica de prueba es Fc: 0.2975206611570248\n",
      "El valor critico es F_alfa: 0.26529721804099055\n",
      "El valor de Sp es: 18.881207588499205\n",
      "El valor del error estandar es: 7.611258108880555\n",
      "El valor de la estadistica de prueba es Tc: 0.7883059428768295\n",
      "El valor p es: 0.7808823323768511\n"
     ]
    }
   ],
   "source": [
    "# Dos distribuciones de una pieza plástica usada en cierto tipo de impresoras láser, se compara un índice de resistencia\n",
    "# de dicha pieza tal qué:\n",
    "\n",
    "import scipy.stats as stats\n",
    "from scipy.stats import f as F_dist\n",
    "\n",
    "# xi = índice de resistencia de la pieza i\n",
    "# xi ~ N(μ, σ2)\n",
    "\n",
    "alpha = 0.05\n",
    "xbarDistribuidor1 = 290\n",
    "sDistribuidor1 = 12\n",
    "nDistribuidor1 = 10\n",
    "\n",
    "xbarDistribuidor2 = 321\n",
    "sDistribuidor2 = 22\n",
    "nDistribuidor2 = 16\n",
    "\n",
    "# Suponga que las medidas provienen de distribuciones normales.\n",
    "\n",
    "# a) hay evidencia de que la pieza del distribuidor 2 es al menos 25 unidades mayor que la del distribuidor 1? pruebe con alfa = 0.05\n",
    "#xi ~ N(μ, σ2)\n",
    "# Ho: (σ1)^2 >= (σ2)^2 vs Ha: (σ1)^2 < (σ2)^2\n",
    "# Ho= -(μ2 - μ1 >= 25) vs Ha = -(μ2 - μ1 < 25)  \n",
    "# H0: μ1 - μ2 <= -25 vs Ha: μ1 - μ2 > - 25  Esta es la hipotesis que se prueba\n",
    "\n",
    "#Estadistica de prueba\n",
    "#Evaluamos igualdad de varianzas / Se pone la varianza mayor en el numerador\n",
    "Fc_obs = (sDistribuidor1**2) / (sDistribuidor2**2)\n",
    "print(\"El valor de la estadistica de prueba es Fc:\", Fc_obs)\n",
    "\n",
    "# Región de rechazo / toma de decisión / cuantil\n",
    "F_alfa = F_dist.ppf(alpha/2, nDistribuidor1 - 1, nDistribuidor2 - 1)\n",
    "print(\"El valor critico es F_alfa:\", F_alfa)\n",
    "\n",
    "#Estadistico de prueba para H0: μ1 - μ2 <= -25 vs Ha: μ1 - μ2 > - 25\n",
    "Sp = ((((nDistribuidor1 - 1) * sDistribuidor1**2) + ((nDistribuidor2 - 1) * sDistribuidor2**2)) / (nDistribuidor1 + nDistribuidor2 - 2))**0.5\n",
    "print(\"El valor de Sp es:\", Sp)\n",
    "\n",
    "ErroEstandar = Sp * ((1 / nDistribuidor1) + (1 / nDistribuidor2))**0.5\n",
    "print(\"El valor del error estandar es:\", ErroEstandar)\n",
    "\n",
    "Tc = ((xbarDistribuidor2 - xbarDistribuidor1) - 25) /  ErroEstandar\n",
    "print(\"El valor de la estadistica de prueba es Tc:\", Tc)\n",
    "\n",
    "Pvalue = t_dist.sf(-Tc, nDistribuidor1 + nDistribuidor2 - 2)\n",
    "print(\"El valor p es:\", Pvalue)\n",
    "\n",
    "#Ya fue corregido, pero revisar el tema del signo y la distribución de desviaciones en el Tc.\n"
   ]
  },
  {
   "cell_type": "code",
   "execution_count": 112,
   "id": "a07eecba",
   "metadata": {},
   "outputs": [
    {
     "name": "stdout",
     "output_type": "stream",
     "text": [
      "El valor de la estadistica de prueba es Zc: 0.9095384505491662\n",
      "El valor critico es Zalfa: 1.6448536269514722\n",
      "No se rechaza H0, por lo tanto no se puede concluir que el medicamento es efectivo\n",
      "El valor p es: 0.18153298552075597\n",
      "No se rechaza H0, por lo tanto no se puede concluir que el medicamento es efectivo\n"
     ]
    }
   ],
   "source": [
    "#En una epidemia de gripa, 2000 niños fueron observados durante dos días para determinar la eficacia de un nuevo medicamento.\n",
    "#120 niños recibieron el medicamento y 29 de estos se curaron en dos días. 280 niños con gripe que no recibieron el medicamento, 56 se curaron en dos días.\n",
    "#Hay evidencia que soporte la efectividad de la vacuna? Verifique con alfa = 0.05\n",
    "#Determine el valor p y compare con la regla de decisión basada en el valor p.\n",
    "\n",
    "\n",
    "#x = número de niños que recibieron el medicamento.\n",
    "#Y = número de niños curados que no recibieron el medicamento.\n",
    "\n",
    "x = 29\n",
    "y= 56\n",
    "n = 120\n",
    "m = 280\n",
    "\n",
    "#px > py ?, entonces Px - Py > 0\n",
    "# Ho: Px - Py <= 0 vs Ha: Px - Py > 0\n",
    "\n",
    "#Estadistica de prueba\n",
    "\n",
    "Phatx = x / n\n",
    "Phaty = y / m   \n",
    "\n",
    "Zc = (Phatx - Phaty) / ((Phatx * (1 - Phatx) / n + Phaty * (1 - Phaty) / m) ** 0.5)\n",
    "print(\"El valor de la estadistica de prueba es Zc:\", Zc)\n",
    "\n",
    "#Región de rechazo / toma de decisión / cuantil\n",
    "Zalfa = norm.ppf(1 - 0.05)\n",
    "print(\"El valor critico es Zalfa:\", Zalfa)\n",
    "\n",
    "if Zc > Zalfa:\n",
    "    print(\"Se rechaza H0, por lo tanto se concluye que el medicamento es efectivo\")\n",
    "else:\n",
    "    print(\"No se rechaza H0, por lo tanto no se puede concluir que el medicamento es efectivo\")\n",
    "    \n",
    "#Valor P\n",
    "Pvalue = norm.sf(Zc)\n",
    "print(\"El valor p es:\", Pvalue)\n",
    "\n",
    "if Pvalue < 0.05:\n",
    "    print(\"Se rechaza H0, por lo tanto se concluye que el medicamento es efectivo\")\n",
    "else:\n",
    "    print(\"No se rechaza H0, por lo tanto no se puede concluir que el medicamento es efectivo\")"
   ]
  },
  {
   "cell_type": "markdown",
   "id": "501b77a7",
   "metadata": {},
   "source": [
    "### Estimaciones de miu y varianza con Chi cuadrado"
   ]
  },
  {
   "cell_type": "code",
   "execution_count": null,
   "id": "c723ae15",
   "metadata": {},
   "outputs": [
    {
     "name": "stdout",
     "output_type": "stream",
     "text": [
      "El valor de la estadistica de prueba es X2c_obs: 4.82\n",
      "El valor critico es X2alfa: 15.086272469388987\n",
      "No se rechaza H0, por lo tanto no se puede concluir que el dado está cargado\n",
      "El valor p es: 0.4382404183728035\n"
     ]
    }
   ],
   "source": [
    "#Para determinar si un dado está cargado o no, este es lanzado 600 veces:\n",
    "\n",
    "# Los resultados son los siguientes:\n",
    "# Caras: 1, 2, 3, 4, 5, 6\n",
    "# Frecuencia observada: 85, 94, 108, 112, 98, 103\n",
    "# Frecuencia esperada: 100, 100, 100, 100, 100, 100\n",
    "\n",
    "# Ho: El dado no está cargado vs Ha: El dado está cargado, es decir, Ho: Pi = 1/6 for i=1,2,3,4,5,6  vs Ha: Al menos un Pi es diferente\n",
    "\n",
    "Pi = 1/6 # Probabilidad de cada categoría\n",
    "alfa = 0.01\n",
    "N = 600\n",
    "k = 6  # número de categorías\n",
    "FrecuenciaEsperadai = N * Pi\n",
    "\n",
    "#Estadistica de prueba para chi cuadrado\n",
    "\n",
    "X2c_obs = sum((O - FrecuenciaEsperadai)**2 / FrecuenciaEsperadai for O in [85, 94, 108, 112, 98, 103])\n",
    "print(\"El valor de la estadistica de prueba es X2c_obs:\", X2c_obs)\n",
    "\n",
    "# Región de rechazo / toma de decisión / cuantil\n",
    "X2alfa = stats.chi2.ppf(1 - alfa, k - 1)\n",
    "print(\"El valor critico es X2alfa:\", X2alfa)\n",
    "\n",
    "if X2c_obs > X2alfa:\n",
    "    print(\"Se rechaza H0, por lo tanto se concluye que el dado está cargado, y sus caras son equiprobables\")\n",
    "else:\n",
    "    print(\"No se rechaza H0, por lo tanto no se puede concluir que el dado está cargado y sus caras son equiprobables\")\n",
    "\n",
    "# PValor\n",
    "Pvalue = 1 - stats.chi2.cdf(X2c_obs, k - 1)\n",
    "print(\"El valor p es:\", Pvalue)\n",
    "\n",
    "#Esta es una prueba a dos colas, por lo tanto no se usa el 1 - alfa"
   ]
  },
  {
   "cell_type": "code",
   "execution_count": 128,
   "id": "23c75df1",
   "metadata": {},
   "outputs": [
    {
     "data": {
      "text/plain": [
       "Power_divergenceResult(statistic=np.float64(4.819999999999999), pvalue=np.float64(0.4382404183728038))"
      ]
     },
     "execution_count": 128,
     "metadata": {},
     "output_type": "execute_result"
    }
   ],
   "source": [
    "from scipy.stats import chisquare\n",
    "\n",
    "chisquare([85, 94, 108, 112, 98, 103], [100, 100, 100, 100, 100, 100])"
   ]
  },
  {
   "cell_type": "code",
   "execution_count": null,
   "id": "c9d88532",
   "metadata": {},
   "outputs": [
    {
     "name": "stdout",
     "output_type": "stream",
     "text": [
      "El valor de la estadistica de prueba es X2c_observado: 2.4\n",
      "El valor critico es X2alfa1: 14.683656573259837\n",
      "No se rechaza Ho, por lo tanto no se puede concluir que al menos un dígito no tiene igual probabilidad\n",
      "El valor p es: 0.9834529512295069\n",
      "No se rechaza Ho, por lo tanto no se puede concluir que al menos un dígito no tiene igual probabilidad\n"
     ]
    }
   ],
   "source": [
    "# El generador de números aleatorios de una calculadora arrojó 100 números:\n",
    "#Digitos: 0, 1, 2, 3, 4, 5, 6, 7, 8, 9\n",
    "#Frecuencia observada: 11,11,9,8,8,11,9,11,13,9\n",
    "#Frecuencia esperada: 10,10,10,10,10,10,10,10,10,10\n",
    "\n",
    "#Pruebe con alfa = 0,1, si todos los digitos tienen igual probabilidad\n",
    "\n",
    "#Ho: Pi = 1/10 para cada i for i=0,1,2,3,4,5,6,7,8,9, Ha: Al menos un digito Pi = 1/10 es diferente\n",
    "Pi = 1/10 # Probabilidad de cada categoría\n",
    "n = 100\n",
    "k = 10\n",
    "alpha1 = 0.1\n",
    "FrecuenciaEsperadai = n * Pi\n",
    "\n",
    "#Estadistica de prueba para chi cuadrado\n",
    "X2c_observado = sum((A - FrecuenciaEsperadai)**2 / FrecuenciaEsperadai for A in [11,11,9,8,8,11,9,11,13,9])\n",
    "print(\"El valor de la estadistica de prueba es X2c_observado:\", X2c_observado)\n",
    "\n",
    "# Región de rechazo / toma de decisión / cuantil\n",
    "X2alfa1 = stats.chi2.ppf(1 - alpha1, k - 1)\n",
    "print(\"El valor critico es X2alfa1:\", X2alfa1)\n",
    "if X2c_observado > X2alfa1:\n",
    "    print(\"Se rechaza Ho, por lo tanto se concluye que al menos un dígito no tiene igual probabilidad\")\n",
    "else:\n",
    "    print(\"No se rechaza Ho, por lo tanto no se puede concluir que al menos un dígito no tiene igual probabilidad\")\n",
    "    \n",
    "# PValor\n",
    "Pvalue1 = 1- stats.chi2.cdf(X2c_observado, k - 1)\n",
    "print(\"El valor p es:\", Pvalue1)\n",
    "\n",
    "if Pvalue1 < alpha1:\n",
    "    print(\"Se rechaza Ho, por lo tanto se concluye que al menos un dígito no tiene igual probabilidad\")\n",
    "else:\n",
    "    print(\"No se rechaza Ho, por lo tanto no se puede concluir que al menos un dígito no tiene igual probabilidad\")\n",
    "    \n",
    "#Si el p valor es muy alto, no se rechaza la nula, porque no hay evidencia suficiente para rechazarla."
   ]
  },
  {
   "cell_type": "code",
   "execution_count": 131,
   "id": "57516369",
   "metadata": {},
   "outputs": [
    {
     "data": {
      "text/plain": [
       "Power_divergenceResult(statistic=np.float64(2.4), pvalue=np.float64(0.9834529512295069))"
      ]
     },
     "execution_count": 131,
     "metadata": {},
     "output_type": "execute_result"
    }
   ],
   "source": [
    "chisquare([11,11,9,8,8,11,9,11,13,9], [10,10,10,10,10,10,10,10,10,10])"
   ]
  },
  {
   "cell_type": "markdown",
   "id": "697ff30f",
   "metadata": {},
   "source": [
    "### Todo esto ha sido con variables discretas"
   ]
  },
  {
   "cell_type": "code",
   "execution_count": null,
   "id": "2503b1a2",
   "metadata": {},
   "outputs": [
    {
     "data": {
      "text/html": [
       "<div>\n",
       "<style scoped>\n",
       "    .dataframe tbody tr th:only-of-type {\n",
       "        vertical-align: middle;\n",
       "    }\n",
       "\n",
       "    .dataframe tbody tr th {\n",
       "        vertical-align: top;\n",
       "    }\n",
       "\n",
       "    .dataframe thead th {\n",
       "        text-align: right;\n",
       "    }\n",
       "</style>\n",
       "<table border=\"1\" class=\"dataframe\">\n",
       "  <thead>\n",
       "    <tr style=\"text-align: right;\">\n",
       "      <th></th>\n",
       "      <th>VMATRI</th>\n",
       "      <th>PROM</th>\n",
       "      <th>HORAS</th>\n",
       "      <th>ESTRATO</th>\n",
       "    </tr>\n",
       "  </thead>\n",
       "  <tbody>\n",
       "    <tr>\n",
       "      <th>count</th>\n",
       "      <td>1.000000e+03</td>\n",
       "      <td>1000.000000</td>\n",
       "      <td>1000.000000</td>\n",
       "      <td>1000.000000</td>\n",
       "    </tr>\n",
       "    <tr>\n",
       "      <th>mean</th>\n",
       "      <td>6.480431e+05</td>\n",
       "      <td>3.404700</td>\n",
       "      <td>29.971000</td>\n",
       "      <td>3.433000</td>\n",
       "    </tr>\n",
       "    <tr>\n",
       "      <th>std</th>\n",
       "      <td>1.938801e+05</td>\n",
       "      <td>0.406267</td>\n",
       "      <td>7.091858</td>\n",
       "      <td>0.955209</td>\n",
       "    </tr>\n",
       "    <tr>\n",
       "      <th>min</th>\n",
       "      <td>7.335300e+04</td>\n",
       "      <td>2.100000</td>\n",
       "      <td>8.000000</td>\n",
       "      <td>1.000000</td>\n",
       "    </tr>\n",
       "    <tr>\n",
       "      <th>25%</th>\n",
       "      <td>5.147415e+05</td>\n",
       "      <td>3.100000</td>\n",
       "      <td>25.000000</td>\n",
       "      <td>3.000000</td>\n",
       "    </tr>\n",
       "    <tr>\n",
       "      <th>50%</th>\n",
       "      <td>6.457095e+05</td>\n",
       "      <td>3.400000</td>\n",
       "      <td>30.000000</td>\n",
       "      <td>3.000000</td>\n",
       "    </tr>\n",
       "    <tr>\n",
       "      <th>75%</th>\n",
       "      <td>7.796918e+05</td>\n",
       "      <td>3.700000</td>\n",
       "      <td>35.000000</td>\n",
       "      <td>4.000000</td>\n",
       "    </tr>\n",
       "    <tr>\n",
       "      <th>max</th>\n",
       "      <td>1.228593e+06</td>\n",
       "      <td>4.800000</td>\n",
       "      <td>50.000000</td>\n",
       "      <td>6.000000</td>\n",
       "    </tr>\n",
       "  </tbody>\n",
       "</table>\n",
       "</div>"
      ],
      "text/plain": [
       "             VMATRI         PROM        HORAS      ESTRATO\n",
       "count  1.000000e+03  1000.000000  1000.000000  1000.000000\n",
       "mean   6.480431e+05     3.404700    29.971000     3.433000\n",
       "std    1.938801e+05     0.406267     7.091858     0.955209\n",
       "min    7.335300e+04     2.100000     8.000000     1.000000\n",
       "25%    5.147415e+05     3.100000    25.000000     3.000000\n",
       "50%    6.457095e+05     3.400000    30.000000     3.000000\n",
       "75%    7.796918e+05     3.700000    35.000000     4.000000\n",
       "max    1.228593e+06     4.800000    50.000000     6.000000"
      ]
     },
     "execution_count": 155,
     "metadata": {},
     "output_type": "execute_result"
    }
   ],
   "source": [
    "import pandas as pd\n",
    "\n",
    "dataExcel = pd.read_excel(\"C:\\\\Users\\\\DanielGP\\\\OneDrive - Caja de Compensacion Familiar de Antioquia COMFAMA\\\\Tendencias\\\\Personal\\\\Especialización\\\\Materias\\\\Estadística\\\\Induccion.xls\")\n",
    "dataExcel.head()\n"
   ]
  },
  {
   "cell_type": "markdown",
   "id": "160a1985",
   "metadata": {},
   "source": [
    "Shapiro"
   ]
  },
  {
   "cell_type": "code",
   "execution_count": null,
   "id": "3bdcb1b3",
   "metadata": {},
   "outputs": [
    {
     "name": "stdout",
     "output_type": "stream",
     "text": [
      "ShapiroResult(statistic=np.float64(0.9983887204061002), pvalue=np.float64(0.48411099079719566))\n",
      "No se rechaza Ho, por lo tanto se concluye que la variable VMATRI sigue una distribución normal\n"
     ]
    }
   ],
   "source": [
    "# Realiza la prueba de normalidad (para saber si tienen distribución) a VMATRI \n",
    "#Ho: La variable sigue una distribución normal\n",
    "#Ha: La variable no sigue una distribución normal\n",
    "\n",
    "from scipy.stats import shapiro\n",
    "\n",
    "Prueba_shapiro = shapiro(dataExcel['VMATRI'])\n",
    "print(Prueba_shapiro)\n",
    "if Prueba_shapiro.pvalue < 0.05:\n",
    "    print(\"Se rechaza Ho, por lo tanto se concluye que la variable VMATRI no sigue una distribución normal\")\n",
    "else:\n",
    "    print(\"No se rechaza Ho, por lo tanto se concluye que la variable VMATRI sigue una distribución normal\")\n",
    "\n",
    "# el valor p es mayor a 0.05, por lo tanto no se rechaza la hipótesis nula, y se concluye que la variable VMATRI sigue una distribución normal.\n",
    "#Es un análisis a dos colas."
   ]
  },
  {
   "cell_type": "code",
   "execution_count": 138,
   "id": "c2907ee0",
   "metadata": {},
   "outputs": [
    {
     "name": "stdout",
     "output_type": "stream",
     "text": [
      "KstestResult(statistic=np.float64(0.016882903498346757), pvalue=np.float64(0.9334001687105566), statistic_location=np.int64(760977), statistic_sign=np.int8(-1))\n",
      "No se rechaza Ho, por lo tanto se concluye que la variable VMATRI sigue una distribución normal con la prueba de Kolmogorov-Smirnoff\n"
     ]
    }
   ],
   "source": [
    "from scipy.stats import kstest, norm    \n",
    "#Ho: La variable sigue una distribución normal, Ha: La variable no sigue una distribución normal\n",
    "\n",
    "Prueba_kolmogorov_Smirnoff = kstest(dataExcel['VMATRI'], 'norm', args=(dataExcel['VMATRI'].mean(), dataExcel['VMATRI'].std()))\n",
    "print(Prueba_kolmogorov_Smirnoff)\n",
    "if Prueba_kolmogorov_Smirnoff.pvalue < 0.05:\n",
    "    print(\"Se rechaza Ho, por lo tanto se concluye que la variable VMATRI no sigue una distribución normal con la prueba de Kolmogorov-Smirnoff\")\n",
    "else:\n",
    "    print(\"No se rechaza Ho, por lo tanto se concluye que la variable VMATRI sigue una distribución normal con la prueba de Kolmogorov-Smirnoff\")\n"
   ]
  },
  {
   "cell_type": "markdown",
   "id": "2060b503",
   "metadata": {},
   "source": [
    "Taller de clase"
   ]
  },
  {
   "cell_type": "code",
   "execution_count": 144,
   "id": "44be0c80",
   "metadata": {},
   "outputs": [
    {
     "name": "stdout",
     "output_type": "stream",
     "text": [
      "ShapiroResult(statistic=np.float64(0.9967843649425402), pvalue=np.float64(0.03997002222550998))\n",
      "Se rechaza Ho, por lo tanto se concluye que la variable HORAS no sigue una distribución normal\n",
      "El valor de la estadistica de prueba es Zc_horas: 44.460943004217505\n",
      "El valor critico es Zα_horas: 1.6448536269514722\n",
      "Se rechaza Ho, por lo tanto se concluye que el promedio de horas es mayor a 20\n",
      "El valor p es: 0.0\n",
      "Se rechaza Ho, por lo tanto se concluye que el promedio de horas es mayor a 20\n"
     ]
    }
   ],
   "source": [
    "# a) de acuerdo con los datos de dataExcel, cálcule si el promedio de horas es mayor a 20.\n",
    "# b) de acuerdo con los datos de dataExcel, cálcule si la proporción de estudiantes que trabajan es máximo 0,6\n",
    "# c) de acuerdo con los datos de dataExcel, cálcule si la media del promedio de los estudiantes que no trabajan es mayor a la media de los estudiantes que si trabajan.\n",
    "# d) de acuerdo con los datos de dataExcel, cálcule si el valor de la matricula medio es superior para estudiantes que trabajan en comparación los estudiantes que no trabajan.\n",
    "\n",
    "# a) de acuerdo con los datos de dataExcel, cálcule si el promedio de horas es mayor a 20.\n",
    "\n",
    "#Miramos si la distribución es normal o no.\n",
    "#Ho: La variable HORAS sigue una distribución , Ha: La variable HORAS no sigue una distribución normal\n",
    "\n",
    "from scipy.stats import shapiro\n",
    "\n",
    "Prueba_shapiro_horas = shapiro(dataExcel['HORAS'])\n",
    "print(Prueba_shapiro_horas)\n",
    "if Prueba_shapiro_horas.pvalue < 0.05:\n",
    "    print(\"Se rechaza Ho, por lo tanto se concluye que la variable HORAS no sigue una distribución normal\")\n",
    "else:\n",
    "    print(\"No se rechaza Ho, por lo tanto se concluye que la variable HORAS sigue una distribución normal\")\n",
    "    \n",
    "#Estadistico de prueba para la hipotesis Ho: μ <= 20 vs Ha: μ > 20\n",
    "\n",
    "n = len(dataExcel['HORAS'])\n",
    "Xbar = dataExcel['HORAS'].mean()\n",
    "S = dataExcel['HORAS'].std()\n",
    "alfa = 0.05\n",
    "\n",
    "Zc_horas = (Xbar - 20) / (S / (n**0.5))\n",
    "print(\"El valor de la estadistica de prueba es Zc_horas:\", Zc_horas)\n",
    "\n",
    "#Región de rechazo / toma de decisión / cuantil y se rechaza cuando Zc > zα_horas\n",
    "Zα_horas = norm.ppf(1 - alfa) \n",
    "print(\"El valor critico es Zα_horas:\", Zα_horas)\n",
    "\n",
    "if Zc_horas > Zα_horas:\n",
    "    print(\"Se rechaza Ho, por lo tanto se concluye que el promedio de horas es mayor a 20\")\n",
    "else:\n",
    "    print(\"No se rechaza Ho, por lo tanto no se puede concluir que el promedio de horas es mayor a 20\")\n",
    "    \n",
    "# PValor\n",
    "Pvalue_horas = norm.sf(Zc_horas)\n",
    "print(\"El valor p es:\", Pvalue_horas)\n",
    "\n",
    "if Pvalue_horas < alfa:\n",
    "    print(\"Se rechaza Ho, por lo tanto se concluye que el promedio de horas es mayor a 20\")\n",
    "else:\n",
    "    print(\"No se rechaza Ho, por lo tanto no se puede concluir que el promedio de horas es mayor a 20\")"
   ]
  },
  {
   "cell_type": "code",
   "execution_count": 158,
   "id": "20feb938",
   "metadata": {},
   "outputs": [
    {
     "name": "stdout",
     "output_type": "stream",
     "text": [
      "El valor de la estadistica de prueba es Zc_trabajo: -15.9437814418872\n",
      "El valor critico es Zα_trabajo: 1.6448536269514722\n",
      "No se rechaza Ho, por lo tanto no se puede concluir que la proporción de estudiantes que trabajan es mayor a 0.6\n",
      "El valor p es: 1.0\n",
      "No se rechaza Ho, por lo tanto no se puede concluir que la proporción de estudiantes que trabajan es mayor a 0.6\n"
     ]
    }
   ],
   "source": [
    "#b) de acuerdo con los datos de dataExcel, cálcule si la proporción de estudiantes que trabajan es máximo 0,6\n",
    "\n",
    "#Buscamos comprobar la hipótesis Ho: P <= 0.6 vs Ha: P > 0.6\n",
    "#x = número de estudiantes que trabajan\n",
    "\n",
    "#Claculo de la estadística de prueba, Zc_trabajo\n",
    "X = len(dataExcel[dataExcel['TRAB'] == 'SI'])\n",
    "N = len(dataExcel['TRAB'])\n",
    "phat = X / N\n",
    "Po = 0.6\n",
    "\n",
    "\n",
    "Zc_trabajo = (phat - Po) / ((Po * (1 - Po) / N) ** 0.5)\n",
    "print(\"El valor de la estadistica de prueba es Zc_trabajo:\", Zc_trabajo)\n",
    "\n",
    "#Región de rechazo / toma de decisión / cuantil y se rechaza cuando Zc > zα_trabajo\n",
    "Zα_trabajo = norm.ppf(1 - alfa)\n",
    "print(\"El valor critico es Zα_trabajo:\", Zα_trabajo)\n",
    "if Zc_trabajo > Zα_trabajo:\n",
    "    print(\"Se rechaza Ho, por lo tanto se concluye que la proporción de estudiantes que trabajan es mayor a 0.6\")   \n",
    "else:\n",
    "    print(\"No se rechaza Ho, por lo tanto no se puede concluir que la proporción de estudiantes que trabajan es mayor a 0.6\")\n",
    "    \n",
    "# PValor\n",
    "Pvalue_trabajo = norm.sf(Zc_trabajo)\n",
    "print(\"El valor p es:\", Pvalue_trabajo)\n",
    "if Pvalue_trabajo < alfa:\n",
    "    print(\"Se rechaza Ho, por lo tanto se concluye que la proporción de estudiantes que trabajan es mayor a 0.6\")\n",
    "else:\n",
    "    print(\"No se rechaza Ho, por lo tanto no se puede concluir que la proporción de estudiantes que trabajan es mayor a 0.6\")\n"
   ]
  },
  {
   "cell_type": "code",
   "execution_count": null,
   "id": "543e0044",
   "metadata": {},
   "outputs": [],
   "source": [
    "#c) de acuerdo con los datos de dataExcel, cálcule si la media del promedio de los estudiantes que no trabajan es mayor a la media de los estudiantes que si trabajan.\n",
    "# x = promedio de los estudiantes que trabajan\n",
    "# y = promedio de los estudiantes que no trabajan\n",
    "\n",
    "#Claculo de la estadística de prueba, Zc_Promedio_Trabajo\n",
    "#Ho: μ1 - μ2 <= 0 vs Ha: μ1 - μ2 > 0\n",
    "\n"
   ]
  }
 ],
 "metadata": {
  "kernelspec": {
   "display_name": "Python 3",
   "language": "python",
   "name": "python3"
  },
  "language_info": {
   "codemirror_mode": {
    "name": "ipython",
    "version": 3
   },
   "file_extension": ".py",
   "mimetype": "text/x-python",
   "name": "python",
   "nbconvert_exporter": "python",
   "pygments_lexer": "ipython3",
   "version": "3.13.4"
  }
 },
 "nbformat": 4,
 "nbformat_minor": 5
}
