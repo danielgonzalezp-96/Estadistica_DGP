{
 "cells": [
  {
   "cell_type": "markdown",
   "id": "94f4df4d",
   "metadata": {},
   "source": [
    "### Taller 4 - Regresiones multiples\n",
    "\n",
    "Para solucionar los siguientes enunciados es necesario platear, de ser posible, la(s) variable(s) a utilizar o eventos, el modelo y sus respectivas partes. Adem ́as su solución debe ser un solo archivo en PDF que debe incluir el planteamiento, solución, el código en Python utilzado para su solución e interpretación."
   ]
  },
  {
   "cell_type": "code",
   "execution_count": null,
   "id": "0cf12e87",
   "metadata": {},
   "outputs": [
    {
     "name": "stdout",
     "output_type": "stream",
     "text": [
      "    Y   X1   X2   X3   X4\n",
      "0  88   86  110  100   87\n",
      "1  80   62   97   99  100\n",
      "2  96  110  107  103  103\n",
      "3  76  101  117   93   95\n",
      "4  80  100  101   95   88\n"
     ]
    }
   ],
   "source": [
    "#El jefe de personal de una agencia gubernamental administró cuatro pruebas de aptitud a cada uno de los 25 aspirantes a cargos administrativos en la agencia. \n",
    "# Para el propósito del estudio, se aceptaron a todos los aspirantes para 25 posiciones independiente de sus puntajes en las pruebas. \n",
    "# Después de un período de prueba, cada aspirante fue evaluado en su habilidad de trabajo. El puntaje obtenido relativo a la habilidad laboral(Y) \n",
    "# y los puntajes en las cuatro pruebas (X1, X2, X3, X4) están consignados en el archivo adjunto.\n",
    "\n",
    "#Emplee el análisis de regresión lineal múltiple para obtener una ecuación de regresión estimada que sirva para pronosticar la habilidad laboral, dadas las demás variables (Xi).\n",
    "\n",
    "import pandas as pd\n",
    "\n",
    "BDTaller5 = pd.read_csv(r\"C:\\Users\\DanielGP\\OneDrive - Caja de Compensacion Familiar de Antioquia COMFAMA\\Tendencias\\Personal\\Especialización\\Materias\\Estadística\\Base Trabajo4 2025 2.csv\", sep=';')\n",
    "print(BDTaller5.head())\n",
    "\n",
    "#Agregamos el BDTaller5 al explorer\n",
    "import os\n",
    "os.chdir(r\"C:\\Users\\DanielGP\\OneDrive - Caja de Compensacion Familiar de Antioquia COMFAMA\\Documentos\\GitHub\\Estadistica_DGP\")\n",
    "BDTaller5.to_csv('BDTaller5.csv', index=False)"
   ]
  },
  {
   "cell_type": "code",
   "execution_count": null,
   "id": "6d0f6aba",
   "metadata": {},
   "outputs": [
    {
     "name": "stdout",
     "output_type": "stream",
     "text": [
      "                            OLS Regression Results                            \n",
      "==============================================================================\n",
      "Dep. Variable:                      Y   R-squared:                       0.963\n",
      "Model:                            OLS   Adj. R-squared:                  0.955\n",
      "Method:                 Least Squares   F-statistic:                     129.7\n",
      "Date:                Tue, 30 Sep 2025   Prob (F-statistic):           5.26e-14\n",
      "Time:                        21:57:27   Log-Likelihood:                -67.951\n",
      "No. Observations:                  25   AIC:                             145.9\n",
      "Df Residuals:                      20   BIC:                             152.0\n",
      "Df Model:                           4                                         \n",
      "Covariance Type:            nonrobust                                         \n",
      "==============================================================================\n",
      "                 coef    std err          t      P>|t|      [0.025      0.975]\n",
      "------------------------------------------------------------------------------\n",
      "Intercept   -124.3818      9.941    -12.512      0.000    -145.119    -103.645\n",
      "X1             0.2957      0.044      6.725      0.000       0.204       0.387\n",
      "X2             0.0483      0.057      0.853      0.404      -0.070       0.166\n",
      "X3             1.3060      0.164      7.959      0.000       0.964       1.648\n",
      "X4             0.5198      0.132      3.940      0.001       0.245       0.795\n",
      "==============================================================================\n",
      "Omnibus:                        3.256   Durbin-Watson:                   1.148\n",
      "Prob(Omnibus):                  0.196   Jarque-Bera (JB):                1.419\n",
      "Skew:                           0.139   Prob(JB):                        0.492\n",
      "Kurtosis:                       1.867   Cond. No.                     2.47e+03\n",
      "==============================================================================\n",
      "\n",
      "Notes:\n",
      "[1] Standard Errors assume that the covariance matrix of the errors is correctly specified.\n",
      "[2] The condition number is large, 2.47e+03. This might indicate that there are\n",
      "strong multicollinearity or other numerical problems.\n",
      "\n",
      "============================================================\n",
      "\n",
      "Betas: Intercept   -124.381821\n",
      "X1             0.295725\n",
      "X2             0.048288\n",
      "X3             1.306011\n",
      "X4             0.519819\n",
      "dtype: float64\n"
     ]
    }
   ],
   "source": [
    "#a) Identifique observaciones que puedan considerarse problemáticas (datos atípicos,puntos de balanceo e influyentes) y analice si debe eliminarlas de su conjunto de\n",
    "#datos o no, justifique. Repita la construcción del modelo de regresión si eliminó observaciones.\n",
    "\n",
    "import statsmodels.formula.api as smf\n",
    "import statsmodels.api as sm\n",
    "\n",
    "ModeloAptitud = smf.ols('Y ~ X1 + X2 + X3 + X4', data=BDTaller5).fit()\n",
    "print(ModeloAptitud.summary())\n",
    "\n",
    "#Calculamos los betas\n",
    "Betas = ModeloAptitud.params\n",
    "print(\"\\n\" + \"=\"*60 + \"\\n\")\n",
    "print(f'Betas: {Betas}')"
   ]
  },
  {
   "cell_type": "code",
   "execution_count": null,
   "id": "4a98e280",
   "metadata": {},
   "outputs": [],
   "source": [
    "#Obtenemos la tabla Anova   \n",
    "TablaAnova = sm.stats.anova_lm(ModeloAptitud, typ=2)\n",
    "print(\"\\n\" + \"=\"*60 + \"\\n\")\n",
    "print(f'Tabla Anova: {TablaAnova}')\n",
    "\n",
    "#Calculamos el SSR, SSE, SST y el MSE\n",
    "n = ModeloAptitud.nobs #n es el número de observaciones\n",
    "k = ModeloAptitud.df_model #k es el número de variables independientes\n",
    "SSR = ModeloAptitud.ess #SSR es la suma de cuadrados de la regresión\n",
    "SSE = ModeloAptitud.ssr #SSE es la suma de cuadrados del error\n",
    "SST = SSR + SSE #SST es la suma total de cuadrados\n",
    "MSR = SSR / k  # MSR es el cuadrado medio de la regresión\n",
    "MSE = SSE / (n - k - 1)    #Grados de libertad del error = n - k - 1\n",
    "F = MSR / MSE #Estadístico F\n",
    "P_value = 1 - sm.stats.f.cdf(F, k, n - k - 1) #Valor p\n",
    "\n",
    "#Calculamos el R2 y el R2 ajustado\n",
    "R2 = ModeloAptitud.rsquared\n",
    "R2_ajustado = 1 - (1 - R2) * (n - 1) / (n - k - 1)  \n",
    "print(\"\\n\" + \"=\"*60 + \"\\n\")\n",
    "print(f'SSR: {SSR}, SSE: {SSE}, SST: {SST}, MSE: {MSE}, F: {F}, P-Value: {P_value}, R2: {R2}, R2 ajustado: {R2_ajustado}')\n",
    "\n",
    "#b) Realice la prueba de significancia del modelo, interprete.\n",
    "if P_value < 0.05:\n",
    "    print(\"El modelo es estadísticamente significativo.\")\n",
    "else:\n",
    "    print(\"El modelo no es estadísticamente significativo.\")"
   ]
  },
  {
   "cell_type": "code",
   "execution_count": 8,
   "id": "d443fde5",
   "metadata": {},
   "outputs": [
    {
     "name": "stdout",
     "output_type": "stream",
     "text": [
      "               sum_sq    df          F        PR(>F)\n",
      "X1         759.830304   1.0  45.231020  1.523710e-06\n",
      "X2          12.219485   1.0   0.727399  4.038262e-01\n",
      "X3        1064.150003   1.0  63.346500  1.261726e-07\n",
      "X4         260.743166   1.0  15.521465  8.099714e-04\n",
      "Residual   335.977523  20.0        NaN           NaN\n",
      "El modelo es estadísticamente significativo.\n"
     ]
    }
   ],
   "source": [
    "# b) Realice la prueba de significancia del modelo, interprete.\n",
    "#calculamos el anova table\n",
    "import statsmodels.api as sm\n",
    "\n",
    "anova_table = sm.stats.anova_lm(ModeloAptitud, typ=2)\n",
    "print(anova_table)\n",
    "\n",
    "#calculamos la significación del modelo con un alfa de 0.05\n",
    "#Definimos las hipótesis nula y alternativa\n",
    "#H0: El modelo no es significativo (todos los coeficientes son iguales a cero) notado de la siguiente forma Ho: β1 = β2 = ... = βk = 0\n",
    "#H1: El modelo es significativo (al menos un coeficiente es diferente de cero) notado de la siguiente forma H1: Al menos un βi ≠ 0 para i = 1, 2, ..., k    \n",
    "alpha = 0.05\n",
    "p_value = anova_table['PR(>F)'].iloc[0]\n",
    "if p_value < alpha:\n",
    "    print(\"El modelo es estadísticamente significativo.\")\n",
    "else:\n",
    "    print(\"El modelo no es estadísticamente significativo.\")\n"
   ]
  },
  {
   "cell_type": "code",
   "execution_count": null,
   "id": "78fa3d59",
   "metadata": {},
   "outputs": [],
   "source": [
    "#c) Obtener el coeficiente de determinación y el coeficiente de determinación ajustado. Interprete.\n",
    "Rsquared_Modelo_Inicial =\t0.963\n",
    "Rsquared_adj_Modelo_Inicial =\t0.955\n",
    "Rsquared_Modelo_Nuevo =\t0.968\n",
    "Rsquared_adj_Modelo_Nuevo =\t0.961\n",
    "\n",
    "if Rsquared_Modelo_Nuevo > Rsquared_Modelo_Inicial:\n",
    "    print(\"El nuevo modelo tiene un mejor ajuste que el modelo inicial.\")   \n",
    "if Rsquared_adj_Modelo_Nuevo > Rsquared_adj_Modelo_Inicial:\n",
    "\n"
   ]
  },
  {
   "cell_type": "code",
   "execution_count": 9,
   "id": "9dbe9267",
   "metadata": {},
   "outputs": [
    {
     "name": "stdout",
     "output_type": "stream",
     "text": [
      "           Y        X1        X2        X3        X4\n",
      "Y   1.000000  0.514411  0.497006  0.897064  0.869387\n",
      "X1  0.514411  1.000000  0.102269  0.180769  0.326663\n",
      "X2  0.497006  0.102269  1.000000  0.519045  0.396710\n",
      "X3  0.897064  0.180769  0.519045  1.000000  0.782038\n",
      "X4  0.869387  0.326663  0.396710  0.782038  1.000000\n"
     ]
    }
   ],
   "source": [
    "#d) Analice si hay problemas de multicolinealidad.\n",
    "Correlacion = BDTaller5.corr()\n",
    "print(Correlacion)"
   ]
  },
  {
   "cell_type": "code",
   "execution_count": null,
   "id": "e55a3c32",
   "metadata": {},
   "outputs": [],
   "source": [
    "#e) Realice una selección de variables por el método que prefiera, tome decisiones, explique."
   ]
  },
  {
   "cell_type": "code",
   "execution_count": null,
   "id": "eda3a35f",
   "metadata": {},
   "outputs": [],
   "source": [
    "#f) Realice una predicción utilizando el modelo seleccionado, interprete."
   ]
  }
 ],
 "metadata": {
  "kernelspec": {
   "display_name": "Python 3",
   "language": "python",
   "name": "python3"
  },
  "language_info": {
   "codemirror_mode": {
    "name": "ipython",
    "version": 3
   },
   "file_extension": ".py",
   "mimetype": "text/x-python",
   "name": "python",
   "nbconvert_exporter": "python",
   "pygments_lexer": "ipython3",
   "version": "3.13.4"
  }
 },
 "nbformat": 4,
 "nbformat_minor": 5
}
