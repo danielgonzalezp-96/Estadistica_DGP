{
 "cells": [
  {
   "cell_type": "markdown",
   "id": "fab69d39",
   "metadata": {},
   "source": [
    "## Taller 2 - Intervalos de confianza"
   ]
  },
  {
   "cell_type": "markdown",
   "id": "1fd68376",
   "metadata": {},
   "source": [
    "La base de datos con la que le corresponde trabajar, se obtiene como una muestra aleatoria que corresponde a los resultados obtenidos por los jóvenes de todo el país en las pruebas Saber 11 del año 2022. La información aparece agregada por Colegio y solo abarca los colegios de Antioquia. Dicha base contiene las variables:\n",
    "NATURALEZA (Colegio Oficial o No-Oficial), JORNADA (Asociado a los diferentes tipos de jornada de estudio), PROMLECT (Promedio obtenido por el colegio en LecturaCrítica) y PROMMATE (Promedio obtenido por el colegio en Matem ́aticas)."
   ]
  },
  {
   "cell_type": "code",
   "execution_count": 3,
   "id": "d8998a2f",
   "metadata": {},
   "outputs": [
    {
     "data": {
      "text/html": [
       "<div>\n",
       "<style scoped>\n",
       "    .dataframe tbody tr th:only-of-type {\n",
       "        vertical-align: middle;\n",
       "    }\n",
       "\n",
       "    .dataframe tbody tr th {\n",
       "        vertical-align: top;\n",
       "    }\n",
       "\n",
       "    .dataframe thead th {\n",
       "        text-align: right;\n",
       "    }\n",
       "</style>\n",
       "<table border=\"1\" class=\"dataframe\">\n",
       "  <thead>\n",
       "    <tr style=\"text-align: right;\">\n",
       "      <th></th>\n",
       "      <th>NATURALEZA</th>\n",
       "      <th>JORNADA</th>\n",
       "      <th>PROMLECT</th>\n",
       "      <th>PROMMATE</th>\n",
       "    </tr>\n",
       "  </thead>\n",
       "  <tbody>\n",
       "    <tr>\n",
       "      <th>0</th>\n",
       "      <td>OFICIAL</td>\n",
       "      <td>COMPLETA</td>\n",
       "      <td>33</td>\n",
       "      <td>18</td>\n",
       "    </tr>\n",
       "    <tr>\n",
       "      <th>1</th>\n",
       "      <td>OFICIAL</td>\n",
       "      <td>COMPLETA</td>\n",
       "      <td>0</td>\n",
       "      <td>19</td>\n",
       "    </tr>\n",
       "    <tr>\n",
       "      <th>2</th>\n",
       "      <td>OFICIAL</td>\n",
       "      <td>COMPLETA</td>\n",
       "      <td>30</td>\n",
       "      <td>21</td>\n",
       "    </tr>\n",
       "    <tr>\n",
       "      <th>3</th>\n",
       "      <td>OFICIAL</td>\n",
       "      <td>COMPLETA</td>\n",
       "      <td>44</td>\n",
       "      <td>21</td>\n",
       "    </tr>\n",
       "    <tr>\n",
       "      <th>4</th>\n",
       "      <td>OFICIAL</td>\n",
       "      <td>COMPLETA</td>\n",
       "      <td>31</td>\n",
       "      <td>25</td>\n",
       "    </tr>\n",
       "    <tr>\n",
       "      <th>5</th>\n",
       "      <td>NO OFICIAL</td>\n",
       "      <td>MANANA</td>\n",
       "      <td>34</td>\n",
       "      <td>27</td>\n",
       "    </tr>\n",
       "    <tr>\n",
       "      <th>6</th>\n",
       "      <td>OFICIAL</td>\n",
       "      <td>COMPLETA</td>\n",
       "      <td>38</td>\n",
       "      <td>28</td>\n",
       "    </tr>\n",
       "    <tr>\n",
       "      <th>7</th>\n",
       "      <td>OFICIAL</td>\n",
       "      <td>COMPLETA</td>\n",
       "      <td>47</td>\n",
       "      <td>28</td>\n",
       "    </tr>\n",
       "    <tr>\n",
       "      <th>8</th>\n",
       "      <td>OFICIAL</td>\n",
       "      <td>COMPLETA</td>\n",
       "      <td>31</td>\n",
       "      <td>29</td>\n",
       "    </tr>\n",
       "    <tr>\n",
       "      <th>9</th>\n",
       "      <td>OFICIAL</td>\n",
       "      <td>COMPLETA</td>\n",
       "      <td>34</td>\n",
       "      <td>29</td>\n",
       "    </tr>\n",
       "  </tbody>\n",
       "</table>\n",
       "</div>"
      ],
      "text/plain": [
       "   NATURALEZA   JORNADA  PROMLECT  PROMMATE\n",
       "0     OFICIAL  COMPLETA        33        18\n",
       "1     OFICIAL  COMPLETA         0        19\n",
       "2     OFICIAL  COMPLETA        30        21\n",
       "3     OFICIAL  COMPLETA        44        21\n",
       "4     OFICIAL  COMPLETA        31        25\n",
       "5  NO OFICIAL    MANANA        34        27\n",
       "6     OFICIAL  COMPLETA        38        28\n",
       "7     OFICIAL  COMPLETA        47        28\n",
       "8     OFICIAL  COMPLETA        31        29\n",
       "9     OFICIAL  COMPLETA        34        29"
      ]
     },
     "execution_count": 3,
     "metadata": {},
     "output_type": "execute_result"
    }
   ],
   "source": [
    "import pandas as pd \n",
    "\n",
    "BDtxt = pd.read_csv(r\"C:\\Users\\DanielGP\\OneDrive - Caja de Compensacion Familiar de Antioquia COMFAMA\\Tendencias\\Personal\\Especialización\\Materias\\Estadística\\DatosTrabajo2EAE20242.txt\", sep=\",\")\n",
    "BDtxt.head(10\n",
    "           )\n"
   ]
  },
  {
   "cell_type": "code",
   "execution_count": 4,
   "id": "d83723cc",
   "metadata": {},
   "outputs": [
    {
     "data": {
      "text/html": [
       "<div>\n",
       "<style scoped>\n",
       "    .dataframe tbody tr th:only-of-type {\n",
       "        vertical-align: middle;\n",
       "    }\n",
       "\n",
       "    .dataframe tbody tr th {\n",
       "        vertical-align: top;\n",
       "    }\n",
       "\n",
       "    .dataframe thead th {\n",
       "        text-align: right;\n",
       "    }\n",
       "</style>\n",
       "<table border=\"1\" class=\"dataframe\">\n",
       "  <thead>\n",
       "    <tr style=\"text-align: right;\">\n",
       "      <th></th>\n",
       "      <th>PROMLECT</th>\n",
       "      <th>PROMMATE</th>\n",
       "    </tr>\n",
       "  </thead>\n",
       "  <tbody>\n",
       "    <tr>\n",
       "      <th>count</th>\n",
       "      <td>1807.000000</td>\n",
       "      <td>1807.000000</td>\n",
       "    </tr>\n",
       "    <tr>\n",
       "      <th>mean</th>\n",
       "      <td>50.321527</td>\n",
       "      <td>47.105147</td>\n",
       "    </tr>\n",
       "    <tr>\n",
       "      <th>std</th>\n",
       "      <td>7.028032</td>\n",
       "      <td>7.897110</td>\n",
       "    </tr>\n",
       "    <tr>\n",
       "      <th>min</th>\n",
       "      <td>0.000000</td>\n",
       "      <td>18.000000</td>\n",
       "    </tr>\n",
       "    <tr>\n",
       "      <th>25%</th>\n",
       "      <td>45.000000</td>\n",
       "      <td>41.000000</td>\n",
       "    </tr>\n",
       "    <tr>\n",
       "      <th>50%</th>\n",
       "      <td>50.000000</td>\n",
       "      <td>47.000000</td>\n",
       "    </tr>\n",
       "    <tr>\n",
       "      <th>75%</th>\n",
       "      <td>55.000000</td>\n",
       "      <td>52.000000</td>\n",
       "    </tr>\n",
       "    <tr>\n",
       "      <th>max</th>\n",
       "      <td>74.000000</td>\n",
       "      <td>76.000000</td>\n",
       "    </tr>\n",
       "  </tbody>\n",
       "</table>\n",
       "</div>"
      ],
      "text/plain": [
       "          PROMLECT     PROMMATE\n",
       "count  1807.000000  1807.000000\n",
       "mean     50.321527    47.105147\n",
       "std       7.028032     7.897110\n",
       "min       0.000000    18.000000\n",
       "25%      45.000000    41.000000\n",
       "50%      50.000000    47.000000\n",
       "75%      55.000000    52.000000\n",
       "max      74.000000    76.000000"
      ]
     },
     "execution_count": 4,
     "metadata": {},
     "output_type": "execute_result"
    }
   ],
   "source": [
    "BDtxt.describe()"
   ]
  },
  {
   "cell_type": "markdown",
   "id": "46a80c0d",
   "metadata": {},
   "source": [
    "a) Construir en Python un IC para al 95 % de confianza necesario para responder:\n",
    "¿Puede afirmarse que el resultado medio obtenido por los colegios en Matemáticas es superior a 75 puntos? \n",
    "asuma normalidad, justifique su respuesta."
   ]
  },
  {
   "cell_type": "code",
   "execution_count": 5,
   "id": "c1cedfe3",
   "metadata": {},
   "outputs": [
    {
     "name": "stdout",
     "output_type": "stream",
     "text": [
      "El IC para el promedio de Matemáticas es: (np.float64(46.74078859201748), np.float64(47.46950471180101))\n",
      "7.897110442577632\n"
     ]
    }
   ],
   "source": [
    "from scipy.stats import t\n",
    "\n",
    "Confianza = 0.95\n",
    "n = len(BDtxt['NATURALEZA'])\n",
    "alfa = 1 - Confianza\n",
    "XbarMath = BDtxt['PROMMATE'].mean()\n",
    "sMath = BDtxt['PROMMATE'].std()\n",
    "t = t.ppf(1 - alfa/2, n - 1)\n",
    "IC = (XbarMath - t * sMath / (n**0.5), XbarMath + t * sMath / (n**0.5))\n",
    "print(\"El IC para el promedio de Matemáticas es:\", IC)\n",
    "print(sMath)\n",
    "\n",
    "#R/ Con un intervalo de confianza del 95%, el promedio de Matemáticas obtenido por los colegios está en un rango entre 46,74 y 47,47, por lo tanto no se puede afirmar que el promedio sea mayor a 75 puntos.\n",
    "#En conclusión, no hay evidencia estadística para afirmar que el promedio en Matemáticas supere los 75 puntos."
   ]
  },
  {
   "cell_type": "markdown",
   "id": "1d1a7f5d",
   "metadata": {},
   "source": [
    "b) ¿Se puede afirmar que el resultado medio obtenido por los colegios en Lectura Crítica es menor en los colegios Privados que en los Públicos? \n",
    "Construir en Python un IC para al 95 % de confianza sin asumir normalidad, justifique su respuesta."
   ]
  },
  {
   "cell_type": "code",
   "execution_count": 6,
   "id": "ccca2573",
   "metadata": {},
   "outputs": [
    {
     "name": "stdout",
     "output_type": "stream",
     "text": [
      "El IC para la diferencia de promedios en Lectura Crítica entre colegios Privados y Públicos es: (np.float64(5.775728265125393), np.float64(7.572265157638087))\n",
      "55.73607038123167\n",
      "49.06207366984993\n",
      "7.899040584763305\n",
      "6.16426735394818\n",
      "341\n",
      "1466\n",
      "0.45705110935051135\n"
     ]
    }
   ],
   "source": [
    "\n",
    "from scipy.stats import t as t_dist\n",
    "\n",
    "Confianza2 = 0.95\n",
    "alfa2 = 1 - Confianza2\n",
    "nPriv = len(BDtxt[BDtxt['NATURALEZA'] == 'NO OFICIAL'])\n",
    "nPub = len(BDtxt[BDtxt['NATURALEZA'] == 'OFICIAL'])\n",
    "\n",
    "XbarLectoPriv = BDtxt[BDtxt['NATURALEZA'] == 'NO OFICIAL']['PROMLECT'].mean()\n",
    "XbarLectoPub = BDtxt[BDtxt['NATURALEZA'] == 'OFICIAL']['PROMLECT'].mean()\n",
    "SLectoPriv = BDtxt[BDtxt['NATURALEZA'] == 'NO OFICIAL']['PROMLECT'].std()\n",
    "SLectoPub = BDtxt[BDtxt['NATURALEZA'] == 'OFICIAL']['PROMLECT'].std()\n",
    "\n",
    "XColegiosDiff = XbarLectoPriv - XbarLectoPub\n",
    "ErrorEstandar = ((SLectoPriv**2 / nPriv) + (SLectoPub**2 / nPub))**0.5\n",
    "GradosLibertad = (SLectoPriv**2 / nPriv + SLectoPub**2 / nPub)**2 / ((SLectoPriv**2 / nPriv)**2 / (nPriv - 1) + (SLectoPub**2 / nPub)**2 / (nPub - 1))\n",
    "\n",
    "\n",
    "IC2 = t_dist.interval(Confianza2, GradosLibertad, loc=XColegiosDiff, scale=ErrorEstandar)\n",
    "\n",
    "print(\"El IC para la diferencia de promedios en Lectura Crítica entre colegios Privados y Públicos es:\", IC2)\n",
    "print(XbarLectoPriv)\n",
    "print(XbarLectoPub)\n",
    "print(SLectoPriv)\n",
    "print(SLectoPub)\n",
    "print(nPriv)\n",
    "print(nPub)\n",
    "print(ErrorEstandar)\n",
    "# R/ Con un intervalo de confianza del 95%, la diferencia en el promedio de Lectura Crítica entre colegios Privados y Públicos está en un rango entre 5.77 y 7,57. Al ser un rango positivo se puede afirmar que el promedio de los colegios Privados es mayor que el de los Públicos."
   ]
  },
  {
   "cell_type": "markdown",
   "id": "6a093b03",
   "metadata": {},
   "source": [
    "c) Construir en Python un IC para al 94% de confianza necesario para responder:¿Puede afirmarse que la proporción de colegios de jornada completa es máximo del 40 %? No asuma normalidad, justifique su respuesta."
   ]
  },
  {
   "cell_type": "code",
   "execution_count": 7,
   "id": "d18a4c9a",
   "metadata": {},
   "outputs": [
    {
     "name": "stdout",
     "output_type": "stream",
     "text": [
      "El IC para la proporción de colegios de jornada completa es: (np.float64(0.3630765812824822), np.float64(0.40615418794828706))\n",
      "0.38461538461538464\n"
     ]
    }
   ],
   "source": [
    "from scipy.stats import t as t_dist\n",
    "\n",
    "Confianza3 = 0.94\n",
    "alfa3 = 1 - Confianza3\n",
    "x = len(BDtxt[BDtxt['JORNADA'] == 'COMPLETA'])\n",
    "ntotal = BDtxt.shape[0]\n",
    "p_hat = x / ntotal\n",
    "GradosLibertad2 = ntotal - 1\n",
    "ErrorEstandar2 = (p_hat * (1 - p_hat) / ntotal)**0.5\n",
    "IC3 = t_dist.interval(Confianza3, GradosLibertad2, loc=p_hat, scale=ErrorEstandar2)\n",
    "print(\"El IC para la proporción de colegios de jornada completa es:\", IC3)\n",
    "print(p_hat)\n",
    "\n",
    "# R/ Con un intervalo de confianza del 94%, la proporción de colegios de jornada completa está en un rango entre 0.3630 y 0.4061 . Dado que el límite superior del intervalo es mayor a 0.40, no se puede afirmar que la proporción de colegios de jornada completa sea máximo del 40%."
   ]
  },
  {
   "cell_type": "markdown",
   "id": "d63bd2f1",
   "metadata": {},
   "source": [
    "d) ¿Se puede afirmar que el resultado medio obtenido por los colegios en Matemáticas es mayor en los colegios de jornada completa que los que prestan servicio en jornadas diferentes? Construir en Python un IC para al 93 % de confianza asumiendo normalidad de las variables involucradas, justifique su respuesta."
   ]
  },
  {
   "cell_type": "code",
   "execution_count": null,
   "id": "e57f8f91",
   "metadata": {},
   "outputs": [
    {
     "name": "stdout",
     "output_type": "stream",
     "text": [
      "El IC para la diferencia de promedios en Matemáticas entre colegios de jornada completa y otros es: (np.float64(0.10187098354158386), np.float64(1.585898800631075))\n",
      "695\n",
      "1112\n",
      "47.624460431654676\n",
      "46.780575539568346\n",
      "9.337645305179144\n",
      "6.829178439336963\n",
      "0.40914047242605306\n"
     ]
    }
   ],
   "source": [
    "# ¿Se puede afirmar que el resultado medio obtenido por los colegios en Matemáticas es mayor en los colegios de jornada completa que los que prestan servicio en jornadas diferentes? \n",
    "# Construir en Python un IC para al 93 % de confianza asumiendo normalidad de las variables involucradas, justifique su respuesta.\n",
    "\n",
    "\n",
    "Confianza4 = 0.93\n",
    "alfa4 = 1 - Confianza4\n",
    "nMathCompleta = len(BDtxt[BDtxt['JORNADA'] == 'COMPLETA'])\n",
    "nMathOtraJornada = len(BDtxt[BDtxt['JORNADA'] != 'COMPLETA'])\n",
    "XbarMathCompleta = BDtxt[BDtxt['JORNADA'] == 'COMPLETA']['PROMMATE'].mean()\n",
    "XbarMathOtraJornada = BDtxt[BDtxt['JORNADA'] != 'COMPLETA']['PROMMATE'].mean()\n",
    "SMathCompleta = BDtxt[BDtxt['JORNADA'] == 'COMPLETA']['PROMMATE'].std()\n",
    "SMathOtraJornada = BDtxt[BDtxt['JORNADA'] != 'COMPLETA']['PROMMATE'].std()\n",
    "\n",
    "XbarJornadaDiff = XbarMathCompleta - XbarMathOtraJornada\n",
    "ErrorEstandar3 = ((SMathCompleta**2 / nMathCompleta) + (SMathOtraJornada**2 / nMathOtraJornada))**0.5\n",
    "GradosLibertad3 = (SMathCompleta**2 / nMathCompleta + SMathOtraJornada**2 / nMathOtraJornada)**2 / ((SMathCompleta**2 / nMathCompleta)**2 / (nMathCompleta - 1) + (SMathOtraJornada**2 / nMathOtraJornada)**2 / (nMathOtraJornada - 1))\n",
    "IC4 = t_dist.interval(Confianza4, GradosLibertad3, loc=XbarJornadaDiff, scale=ErrorEstandar3)\n",
    "print(\"El IC para la diferencia de promedios en Matemáticas entre colegios de jornada completa y otros es:\", IC4)\n",
    "print(nMathCompleta)\n",
    "print(nMathOtraJornada)\n",
    "print(XbarMathCompleta)\n",
    "print(XbarMathOtraJornada) \n",
    "print(SMathCompleta)\n",
    "print(SMathOtraJornada)\n",
    "print(ErrorEstandar3)\n",
    "\n",
    "# Con un intervalo de confianza del 93%, la diferencia en el promedio de Matemáticas entre colegios de jornada completa y otros está en un rango entre 0.1018 y 1.585. Al ser un rango positivo se puede afirmar que el promedio en matemáticas de los colegios de jornada completa es mayor que  el de las otras jornadas."
   ]
  },
  {
   "cell_type": "code",
   "execution_count": null,
   "id": "dd3149bb",
   "metadata": {},
   "outputs": [],
   "source": []
  }
 ],
 "metadata": {
  "kernelspec": {
   "display_name": "Python 3",
   "language": "python",
   "name": "python3"
  },
  "language_info": {
   "codemirror_mode": {
    "name": "ipython",
    "version": 3
   },
   "file_extension": ".py",
   "mimetype": "text/x-python",
   "name": "python",
   "nbconvert_exporter": "python",
   "pygments_lexer": "ipython3",
   "version": "3.13.4"
  }
 },
 "nbformat": 4,
 "nbformat_minor": 5
}
