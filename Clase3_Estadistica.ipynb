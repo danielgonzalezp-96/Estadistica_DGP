{
 "cells": [
  {
   "cell_type": "code",
   "execution_count": 5,
   "id": "3759ad1c",
   "metadata": {},
   "outputs": [
    {
     "name": "stdout",
     "output_type": "stream",
     "text": [
      "0.10000000000000009\n"
     ]
    }
   ],
   "source": [
    "from scipy.stats import uniform\n",
    "\n",
    "U1_6 = uniform.cdf(1.6,1,2)\n",
    "U1_5 = uniform.cdf(1.5,1,2)\n",
    "U2_6 = uniform.cdf(2.6,1,2)\n",
    "U2_5 = uniform.cdf(2.5,1,2)\n",
    "print(U1_6 - U1_5 + U2_6 - U2_5)"
   ]
  },
  {
   "cell_type": "code",
   "execution_count": null,
   "id": "279ae93b",
   "metadata": {},
   "outputs": [
    {
     "name": "stdout",
     "output_type": "stream",
     "text": [
      " probabilidad de 0.3333333333333333 %\n"
     ]
    }
   ],
   "source": [
    "#Ejemplo 2 (x,a, b-a)\n",
    "\n",
    "print(f\" probabilidad de {uniform.cdf(30,20,30)} %\")"
   ]
  },
  {
   "cell_type": "code",
   "execution_count": 12,
   "id": "05a85026",
   "metadata": {},
   "outputs": [
    {
     "name": "stdout",
     "output_type": "stream",
     "text": [
      " probabilidad de 0.6 %\n"
     ]
    }
   ],
   "source": [
    "print(f\" probabilidad de {uniform.cdf(40,25,25)} %\")"
   ]
  },
  {
   "cell_type": "code",
   "execution_count": 13,
   "id": "daa98665",
   "metadata": {},
   "outputs": [
    {
     "name": "stdout",
     "output_type": "stream",
     "text": [
      " Con un tiempo medio de entrega 35.0 minutos y una desviacion estandar de 8.660254037844387 minutos\n"
     ]
    }
   ],
   "source": [
    "print(f\" Con un tiempo medio de entrega {(20+50) / 2} minutos y una desviacion estandar de {(50-20) / (12**0.5)} minutos\")"
   ]
  },
  {
   "cell_type": "markdown",
   "id": "536b8dfc",
   "metadata": {},
   "source": [
    "Distribución de probabilidad normal"
   ]
  },
  {
   "cell_type": "code",
   "execution_count": 16,
   "id": "c8a38a77",
   "metadata": {},
   "outputs": [
    {
     "name": "stdout",
     "output_type": "stream",
     "text": [
      " probabilidad de 0.624655260005155 %\n"
     ]
    }
   ],
   "source": [
    "from scipy.stats import norm\n",
    "\n",
    "print( f\" probabilidad de {norm.cdf(4,1,2) - norm.cdf(0,1,2)} %\")"
   ]
  },
  {
   "cell_type": "code",
   "execution_count": 31,
   "id": "b5f96ba4",
   "metadata": {},
   "outputs": [
    {
     "name": "stdout",
     "output_type": "stream",
     "text": [
      " probabilidad de 65.8655253931457 %\n"
     ]
    }
   ],
   "source": [
    "print(f\" probabilidad de {(1 - (norm.cdf(1,1,2) - norm.cdf(-1,1,2))) * 100} %\")"
   ]
  },
  {
   "cell_type": "code",
   "execution_count": 22,
   "id": "e28b3259",
   "metadata": {},
   "outputs": [
    {
     "name": "stdout",
     "output_type": "stream",
     "text": [
      "3.842058549219411\n"
     ]
    }
   ],
   "source": [
    "# ejercicio 3\n",
    "\n",
    "print(norm.ppf(0.05, 4.5, 0.4))"
   ]
  },
  {
   "cell_type": "code",
   "execution_count": 29,
   "id": "80f86e8e",
   "metadata": {},
   "outputs": [
    {
     "name": "stdout",
     "output_type": "stream",
     "text": [
      " una proporción de cables defectuosos de 21.129954733371115 %\n"
     ]
    }
   ],
   "source": [
    "#Ejercicio cables\n",
    "print (f\" una proporción de cables defectuosos de {(1 - (norm.cdf(0.825, 0.8, 0.02)- norm.cdf(0.775, 0.8, 0.02)))*100} %\")"
   ]
  },
  {
   "cell_type": "code",
   "execution_count": null,
   "id": "e5c1358c",
   "metadata": {},
   "outputs": [
    {
     "name": "stdout",
     "output_type": "stream",
     "text": [
      "0.15451540540056827\n"
     ]
    }
   ],
   "source": [
    "# binomial\n",
    "from scipy.stats import binom\n",
    "\n",
    "print(binom.sf(24, 1000, 0.02))  #binom.cdf(x,n,p)"
   ]
  },
  {
   "cell_type": "code",
   "execution_count": 47,
   "id": "cd657b0c",
   "metadata": {},
   "outputs": [
    {
     "name": "stdout",
     "output_type": "stream",
     "text": [
      "0.15470843194796313\n"
     ]
    }
   ],
   "source": [
    "#proximación a la normal de una binomial\n",
    "print(1- (norm.cdf(24.5, 20, (19.6)**0.5))) "
   ]
  },
  {
   "cell_type": "code",
   "execution_count": 49,
   "id": "3c4339b8",
   "metadata": {},
   "outputs": [
    {
     "name": "stdout",
     "output_type": "stream",
     "text": [
      " 77.19688887616411 %\n"
     ]
    }
   ],
   "source": [
    "#Ejemplo 2 de aproximación a la normal desde la binomial\n",
    "print(f\" {binom.sf(150, 16000000, 1e-5) * 100} %\" )  #binom.cdf(x,n,p)"
   ]
  },
  {
   "cell_type": "code",
   "execution_count": 58,
   "id": "da8db62f",
   "metadata": {},
   "outputs": [
    {
     "name": "stdout",
     "output_type": "stream",
     "text": [
      " 77.36871224821209 %\n"
     ]
    }
   ],
   "source": [
    "# Aproximación a la normal de una binomial\n",
    "print(f\" {(1 - (norm.cdf(150.5, (16000000*1e-5), (16000000*1e-5*(1-1e-5))**0.5)))*100} %\")"
   ]
  },
  {
   "cell_type": "markdown",
   "id": "83bdd15a",
   "metadata": {},
   "source": [
    "Distribución de probabilidad exponencial"
   ]
  },
  {
   "cell_type": "code",
   "execution_count": 67,
   "id": "ad2c843e",
   "metadata": {},
   "outputs": [
    {
     "name": "stdout",
     "output_type": "stream",
     "text": [
      " 0.30032746262486965 %\n"
     ]
    }
   ],
   "source": [
    "from scipy.stats import expon\n",
    "\n",
    "print(f\" {expon.cdf(0.5, scale = 1.4)} %\")"
   ]
  },
  {
   "cell_type": "code",
   "execution_count": 76,
   "id": "2271b4dc",
   "metadata": {},
   "outputs": [
    {
     "name": "stdout",
     "output_type": "stream",
     "text": [
      " probabilidad de 0.24787521766663584 % de esperar más de 1 hora por un taxi\n"
     ]
    }
   ],
   "source": [
    "# Ejercicio tiempo de llegada de los taxis a un acopio\n",
    "print(f\" probabilidad de {expon.sf(60, scale = 10) * 100} % de esperar más de 1 hora por un taxi\")"
   ]
  },
  {
   "cell_type": "code",
   "execution_count": 93,
   "id": "6428e24a",
   "metadata": {},
   "outputs": [
    {
     "name": "stdout",
     "output_type": "stream",
     "text": [
      " probabilidad de 63.369132257372186 %\n"
     ]
    }
   ],
   "source": [
    "#Está mala, revisar\n",
    "\n",
    "print(f\" probabilidad de {(expon.cdf(10, scale = 10) / expon.cdf(60, scale = 10)) * 100} %\")"
   ]
  },
  {
   "cell_type": "code",
   "execution_count": 80,
   "id": "dec1c740",
   "metadata": {},
   "outputs": [
    {
     "name": "stdout",
     "output_type": "stream",
     "text": [
      " probabilidad de 63.212055882855765 %\n"
     ]
    }
   ],
   "source": [
    "print(f\" probabilidad de {expon.cdf(10,scale = 10) * 100} %\")"
   ]
  },
  {
   "cell_type": "markdown",
   "id": "b63ffd4b",
   "metadata": {},
   "source": [
    "## Estimadores\n",
    "Solución de hallar la media de de una muestra aleatoria de grandes establecimientos de Medellín\n",
    "\n"
   ]
  },
  {
   "cell_type": "code",
   "execution_count": 10,
   "id": "752be909",
   "metadata": {},
   "outputs": [
    {
     "name": "stdout",
     "output_type": "stream",
     "text": [
      " La media es 8.0, la varianza es 15.777777777777779 y las ventas mayores a 5 son 60.0 % del total\n"
     ]
    }
   ],
   "source": [
    "import numpy as np \n",
    "\n",
    "Ventas = np.array([16,10,8,12,4,6,5,4,10,5])\n",
    "\n",
    "Media = Ventas.mean()\n",
    "Varianza = Ventas.var(ddof=1)\n",
    "VentasMayoresA5 = (Ventas > 5).mean() * 100\n",
    "\n",
    "print(f\" La media es {Media}, la varianza es {Varianza} y las ventas mayores a 5 son {VentasMayoresA5} % del total\")"
   ]
  },
  {
   "cell_type": "code",
   "execution_count": 17,
   "id": "cab1e852",
   "metadata": {},
   "outputs": [
    {
     "name": "stdout",
     "output_type": "stream",
     "text": [
      "1.959963984540054\n"
     ]
    }
   ],
   "source": [
    "#Ejercicio del anillo\n",
    "\n",
    "from scipy.stats import norm\n",
    "\n",
    "\n",
    "print(norm.ppf(1-(0.05/2)))"
   ]
  },
  {
   "cell_type": "code",
   "execution_count": null,
   "id": "1baa20f8",
   "metadata": {},
   "outputs": [
    {
     "name": "stdout",
     "output_type": "stream",
     "text": [
      "(np.float64(74.02343528099352), np.float64(74.05656471900649))\n"
     ]
    }
   ],
   "source": [
    "#Intervalo de confianza al 95% para el diametro promedio verdadero del anillo\n",
    "#(x̄ - Zα/2* (σ/√n), x̄ + Zα/2* (σ/√n))\n",
    "\n",
    "#Se calcula alredor del promedio muestral\n",
    "\n",
    "σ = 0.05\n",
    "xbar = 74.04\n",
    "n = 35\n",
    "Z = norm.ppf(1-(0.05/2))\n",
    "IC = (xbar - Z * (σ/n**0.5), xbar + Z * (σ/n**0.5))\n",
    "print(IC)\n",
    "\n"
   ]
  },
  {
   "cell_type": "code",
   "execution_count": 21,
   "id": "4fcb150c",
   "metadata": {},
   "outputs": [
    {
     "name": "stdout",
     "output_type": "stream",
     "text": [
      "96.03647051735311\n"
     ]
    }
   ],
   "source": [
    "#Ahora con intervalo con precisión de 0.01 al 95%\n",
    "#Ecuación para n: n = (Zα/2 * σ / E )**2\n",
    "E = 0.01\n",
    "n = (Z * σ / E )**2\n",
    "print(n)"
   ]
  },
  {
   "cell_type": "code",
   "execution_count": null,
   "id": "18c71eff",
   "metadata": {},
   "outputs": [
    {
     "name": "stdout",
     "output_type": "stream",
     "text": [
      "(np.float64(8.219989326998414), np.float64(8.248010673001586))\n"
     ]
    }
   ],
   "source": [
    "#Ejercicio de una máquina que produce varillas de metal usando la t de student\n",
    "#(x̄ - tα/2* (σ/√n), x̄ + tα/2* (σ/√n)) \n",
    "\n",
    "from scipy.stats import t\n",
    "\n",
    "n = 15\n",
    "alfa = 1- 0.95\n",
    "σ = 0.0253\n",
    "xbar = 8.234\n",
    "t = t.ppf(1-(alfa/2), n-1)\n",
    "\n",
    "IC = (xbar - t * (σ/n**0.5), xbar + t * (σ/n**0.5))\n",
    "print(IC)"
   ]
  },
  {
   "cell_type": "code",
   "execution_count": 33,
   "id": "056a8a93",
   "metadata": {},
   "outputs": [
    {
     "data": {
      "text/plain": [
       "(np.float64(8.219989326998414), np.float64(8.248010673001586))"
      ]
     },
     "execution_count": 33,
     "metadata": {},
     "output_type": "execute_result"
    }
   ],
   "source": [
    "# Ahora con t.interval\n",
    "\n",
    "from scipy.stats import t as t_dist\n",
    "\n",
    "t_dist.interval(0.95, n-1, xbar, scale = σ/n**0.5)"
   ]
  },
  {
   "cell_type": "code",
   "execution_count": 45,
   "id": "cab1e10d",
   "metadata": {},
   "outputs": [
    {
     "name": "stdout",
     "output_type": "stream",
     "text": [
      "(np.float64(-4.116065501451935), np.float64(-1.283934498548056))\n"
     ]
    }
   ],
   "source": [
    "#Ejercicio de tiempo de inscripción a la universidad\n",
    "\n",
    "n1 = n2 = 100\n",
    "xbar1 = 50.2\n",
    "xbar2 = 52.9\n",
    "xbardiff = xbar1 - xbar2\n",
    "σ1 = 4.8\n",
    "σ2 = 5.4\n",
    "\n",
    "t = norm.ppf(1-(0.05/2))\n",
    "\n",
    "IC = ( (xbar1 - xbar2) - t * ((σ1**2/n1 + σ2**2/n2)**0.5), (xbar1 - xbar2) + t * ((σ1**2/n1 + σ2**2/n2)**0.5) )\n",
    "print(IC)\n",
    "\n"
   ]
  },
  {
   "cell_type": "code",
   "execution_count": 43,
   "id": "5005e41e",
   "metadata": {},
   "outputs": [
    {
     "name": "stdout",
     "output_type": "stream",
     "text": [
      "(np.float64(-16.41163222738048), np.float64(-15.588367772619522))\n"
     ]
    }
   ],
   "source": [
    "#Se hicieron pruebas de resistencia a la tensión de dos tipos distintos de varillas para alambres y se obtuvo los siguientes resultados:\n",
    "# grado: AISI-1054, n=129, xbar1=107.6, s1= 1.3\n",
    "# grado: AISI-1078, m=129, xbar2=123.6, s2= 2\n",
    "\n",
    "n = m = 129\n",
    "xbar1 = 107.6\n",
    "xbar2 = 123.6\n",
    "s1 = 1.3\n",
    "s2 = 2  \n",
    "\n",
    "\n",
    "# x = resistencia de la varilla AISI-1054\n",
    "# y = resistencia de la varilla AISI-1078\n",
    "\n",
    "# Es Xbar y > Ybar + 10? \n",
    "# μx - μy < 10\n",
    "\n",
    "IC = ( (xbar1 - xbar2) - Z * ((s1**2/n + s2**2/m)**0.5), (xbar1 - xbar2) + Z * ((s1**2/n + s2**2/m)**0.5) )\n",
    "print(IC)\n",
    "\n",
    "# Como el intervalo no contiene el 10, se concluye que la resistencia promedio de las varillas AISI-1054 es menor a la de las varillas AISI-1078 en más de 10 unidades.\n",
    "\n"
   ]
  },
  {
   "cell_type": "code",
   "execution_count": null,
   "id": "6694a430",
   "metadata": {},
   "outputs": [
    {
     "name": "stdout",
     "output_type": "stream",
     "text": [
      "(np.float64(4.799576831173301), np.float64(21.2004231688267))\n"
     ]
    }
   ],
   "source": [
    "# En dos ciudades se llevó a cabo una encuesta de vida para obtener el gasto promedio en alimentación en familias /n\n",
    "# constituídas por cuatro personas. De cada ciudad, se seleccionó aleatoriamente una muestra de 20 familias y se observaron sus gastos semanales de alimentación. /n\n",
    "# las medias y desviaciones estándar muestrales fueron las siguientes:\n",
    "# x1= 135, x2 = 122, S1 = 15, S2 = 10\n",
    "\n",
    "# Suponiendo que las poblaciones son independientes, con distribución normal cada una, ¿Existe una diferencia real entre miu1 y miu2?\n",
    "\n",
    "n1 = n2 = 20\n",
    "xbar1 = 135\n",
    "xbar2 = 122\n",
    "xbardiff = xbar1 - xbar2\n",
    "s1 = 15\n",
    "s2 = 10\n",
    "GradoLibertad = ((s1**2/n1 + s2**2/n2)**2) / ( ((s1**2/n1)**2 / (n1 - 1)) + ((s2**2/n2)**2 / (n2 - 1)))\n",
    "ErrorEstandar = ( (s1**2/n1 + s2**2/n2)**0.5 )\n",
    "\n",
    "print(t_dist.interval(0.95, df= GradoLibertad, loc = xbardiff, scale = ErrorEstandar))\n",
    "\n",
    "#Utilicé la formula que no era, es la otra ya que demostramos que si eran igual (REVISAR)\n",
    "# En promedio las familias de la ciudad 1 gastan entre 4,7 y 21.2 unidades monetarias más que las familias de la ciudad 2 en alimentación semanal."
   ]
  },
  {
   "cell_type": "code",
   "execution_count": 106,
   "id": "0eb74389",
   "metadata": {},
   "outputs": [
    {
     "name": "stdout",
     "output_type": "stream",
     "text": [
      "(np.float64(4.839406233195183), np.float64(21.160593766804816))\n"
     ]
    }
   ],
   "source": [
    "n1 = n2 = 20\n",
    "alfa = 1 - 0.05\n",
    "xbar1 = 135\n",
    "xbar2 = 122\n",
    "xbardiff1 = xbar1 - xbar2\n",
    "s1 = 15\n",
    "s2 = 10\n",
    "sp2 = (((n1 - 1) * s1**2) + ((n2 - 1) * s2**2)) / (n1 + n2 - 2)\n",
    "sp = sp2**0.5\n",
    "GradosLibertad1 = n1 + n2 - 2\n",
    "ErrorEstandar1 = sp * ((1/n1 + 1/n2)**0.5)\n",
    "\n",
    "print(t_dist.interval(alfa, df= GradosLibertad1, loc = xbardiff1, scale = ErrorEstandar1))\n"
   ]
  },
  {
   "cell_type": "markdown",
   "id": "335117a6",
   "metadata": {},
   "source": [
    "Prueba de Fisher"
   ]
  },
  {
   "cell_type": "code",
   "execution_count": null,
   "id": "45a8d8e0",
   "metadata": {},
   "outputs": [
    {
     "name": "stdout",
     "output_type": "stream",
     "text": [
      "(np.float64(0.890577358972253), np.float64(5.684514600553334))\n"
     ]
    }
   ],
   "source": [
    "from scipy.stats import f\n",
    "#Prueba de Fisher / #Cocientes para varianzas\n",
    "IC = ( (s1**2/s2**2) / f.ppf(1-(0.05/2), n1-1, n2-1), (s1**2/s2**2) * f.ppf(1-(0.05/2), n2-1, n1-1))\n",
    "\n",
    "print(IC)\n",
    "\n",
    "#El intervalo contiene el 1, por lo tanto no se rechaza la hipótesis nula de que las varianzas son iguales.\n"
   ]
  },
  {
   "cell_type": "code",
   "execution_count": 80,
   "id": "7a8822a5",
   "metadata": {},
   "outputs": [
    {
     "name": "stdout",
     "output_type": "stream",
     "text": [
      " El intervalo de cofianza está dado entre (np.float64(0.001982859090670537), np.float64(0.006683807575996129))\n"
     ]
    }
   ],
   "source": [
    "# Intervalos para la proporción\n",
    "# Se lleva a cabo un estudio para determinar la efectividad de una vacuna. Se administra la vacuna a una muestra de 3000 /n\n",
    "#sujetos y 13 contraen la enfermedad. Determine un intervalo de confianza del 95% para la proporción verdadera de sujetos que /n\n",
    "#contraen la enfermedad después de haber sido vacunados.\n",
    "# x = # de personadas vacunadas que contraen la enfermedad\n",
    "n = 3000\n",
    "x = 13\n",
    "p_hat = x/n\n",
    "Z = norm.ppf(1-(0.05/2))\n",
    "\n",
    "IC = ( (p_hat - Z * ((p_hat * (1-p_hat) / n)**0.5)), (p_hat + Z * ((p_hat * (1-p_hat) / n)**0.5)))\n",
    "print(F\" El intervalo de cofianza está dado entre {IC}\")"
   ]
  },
  {
   "cell_type": "markdown",
   "id": "7852a64d",
   "metadata": {},
   "source": [
    "## Ejercicio de clase con base de datos\n"
   ]
  },
  {
   "cell_type": "code",
   "execution_count": 84,
   "id": "6f57bb4c",
   "metadata": {},
   "outputs": [],
   "source": [
    "import numpy as np\n",
    "import pandas as pd \n",
    "\n",
    "dataExcel = pd.read_excel(\"C:\\\\Users\\\\DanielGP\\\\OneDrive - Caja de Compensacion Familiar de Antioquia COMFAMA\\\\Tendencias\\\\Personal\\\\Especialización\\\\Materias\\\\Estadística\\\\Induccion.xls\")\n"
   ]
  },
  {
   "cell_type": "code",
   "execution_count": 91,
   "id": "993546f8",
   "metadata": {},
   "outputs": [
    {
     "data": {
      "text/plain": [
       "VMATRI          0\n",
       "PROM            0\n",
       "HORAS           0\n",
       "ESTRATO         0\n",
       "TRAB            0\n",
       "FAC             0\n",
       "Unnamed: 6    998\n",
       "Unnamed: 7    997\n",
       "Unnamed: 8    999\n",
       "dtype: int64"
      ]
     },
     "execution_count": 91,
     "metadata": {},
     "output_type": "execute_result"
    }
   ],
   "source": [
    "dataExcel.isna().sum()"
   ]
  },
  {
   "cell_type": "code",
   "execution_count": 87,
   "id": "134897b8",
   "metadata": {},
   "outputs": [
    {
     "data": {
      "text/html": [
       "<div>\n",
       "<style scoped>\n",
       "    .dataframe tbody tr th:only-of-type {\n",
       "        vertical-align: middle;\n",
       "    }\n",
       "\n",
       "    .dataframe tbody tr th {\n",
       "        vertical-align: top;\n",
       "    }\n",
       "\n",
       "    .dataframe thead th {\n",
       "        text-align: right;\n",
       "    }\n",
       "</style>\n",
       "<table border=\"1\" class=\"dataframe\">\n",
       "  <thead>\n",
       "    <tr style=\"text-align: right;\">\n",
       "      <th></th>\n",
       "      <th>VMATRI</th>\n",
       "      <th>PROM</th>\n",
       "      <th>HORAS</th>\n",
       "      <th>ESTRATO</th>\n",
       "      <th>TRAB</th>\n",
       "      <th>FAC</th>\n",
       "      <th>Unnamed: 6</th>\n",
       "      <th>Unnamed: 7</th>\n",
       "      <th>Unnamed: 8</th>\n",
       "    </tr>\n",
       "  </thead>\n",
       "  <tbody>\n",
       "    <tr>\n",
       "      <th>0</th>\n",
       "      <td>602089</td>\n",
       "      <td>3.2</td>\n",
       "      <td>23</td>\n",
       "      <td>4</td>\n",
       "      <td>SI</td>\n",
       "      <td>CIENCIAS</td>\n",
       "      <td>NaN</td>\n",
       "      <td>mu_VMATRI&gt;600000</td>\n",
       "      <td>con sigma_VMATRI=</td>\n",
       "    </tr>\n",
       "    <tr>\n",
       "      <th>1</th>\n",
       "      <td>645860</td>\n",
       "      <td>3.3</td>\n",
       "      <td>32</td>\n",
       "      <td>4</td>\n",
       "      <td>SI</td>\n",
       "      <td>MINAS</td>\n",
       "      <td>NaN</td>\n",
       "      <td>NaN</td>\n",
       "      <td>NaN</td>\n",
       "    </tr>\n",
       "    <tr>\n",
       "      <th>2</th>\n",
       "      <td>230028</td>\n",
       "      <td>3.5</td>\n",
       "      <td>28</td>\n",
       "      <td>4</td>\n",
       "      <td>NO</td>\n",
       "      <td>AGRONOMIA</td>\n",
       "      <td>Ho:</td>\n",
       "      <td>mu_VMATRI&lt;=600000</td>\n",
       "      <td>NaN</td>\n",
       "    </tr>\n",
       "    <tr>\n",
       "      <th>3</th>\n",
       "      <td>560515</td>\n",
       "      <td>4.2</td>\n",
       "      <td>24</td>\n",
       "      <td>3</td>\n",
       "      <td>NO</td>\n",
       "      <td>MINAS</td>\n",
       "      <td>Ha:</td>\n",
       "      <td>mu_VMATRI&gt;600000</td>\n",
       "      <td>NaN</td>\n",
       "    </tr>\n",
       "    <tr>\n",
       "      <th>4</th>\n",
       "      <td>536309</td>\n",
       "      <td>3.2</td>\n",
       "      <td>28</td>\n",
       "      <td>3</td>\n",
       "      <td>SI</td>\n",
       "      <td>CIENCIAS</td>\n",
       "      <td>NaN</td>\n",
       "      <td>NaN</td>\n",
       "      <td>NaN</td>\n",
       "    </tr>\n",
       "  </tbody>\n",
       "</table>\n",
       "</div>"
      ],
      "text/plain": [
       "   VMATRI  PROM  HORAS  ESTRATO TRAB        FAC Unnamed: 6         Unnamed: 7  \\\n",
       "0  602089   3.2     23        4   SI   CIENCIAS        NaN   mu_VMATRI>600000   \n",
       "1  645860   3.3     32        4   SI      MINAS        NaN                NaN   \n",
       "2  230028   3.5     28        4   NO  AGRONOMIA        Ho:  mu_VMATRI<=600000   \n",
       "3  560515   4.2     24        3   NO      MINAS        Ha:   mu_VMATRI>600000   \n",
       "4  536309   3.2     28        3   SI   CIENCIAS        NaN                NaN   \n",
       "\n",
       "          Unnamed: 8  \n",
       "0  con sigma_VMATRI=  \n",
       "1                NaN  \n",
       "2                NaN  \n",
       "3                NaN  \n",
       "4                NaN  "
      ]
     },
     "execution_count": 87,
     "metadata": {},
     "output_type": "execute_result"
    }
   ],
   "source": [
    "dataExcel.head()"
   ]
  },
  {
   "cell_type": "code",
   "execution_count": 93,
   "id": "96cb7571",
   "metadata": {},
   "outputs": [
    {
     "name": "stdout",
     "output_type": "stream",
     "text": [
      "(np.float64(29.44928334073209), np.float64(30.49271665926791))\n"
     ]
    }
   ],
   "source": [
    "#a) Calcular IC al 98% para el promedio de horas de estudio de los estudiantes\n",
    "n = dataExcel.shape[0]\n",
    "xbar = dataExcel[\"HORAS\"].mean()\n",
    "S = dataExcel[\"HORAS\"].std()\n",
    "Z = norm.ppf(1-(0.02/2))\n",
    "IC = (xbar - Z * (S / (n**0.5)), xbar + Z * (S / (n**0.5)))\n",
    "print(IC)"
   ]
  },
  {
   "cell_type": "code",
   "execution_count": null,
   "id": "4b54d702",
   "metadata": {},
   "outputs": [
    {
     "name": "stdout",
     "output_type": "stream",
     "text": [
      " El intervalo de cofianza está dado entre (np.float64(0.32337982745632377), np.float64(0.3826201725436762))\n"
     ]
    }
   ],
   "source": [
    "# b) Calcular IC al 95% para la proporción de estudiantes que trabajan\n",
    "n = dataExcel.shape[0]\n",
    "x = (dataExcel[\"TRAB\"] == \"SI\").sum()\n",
    "p_hat = x/n\n",
    "Z = norm.ppf(1-(0.05/2))\n",
    "IC = ( (p_hat - Z * ((p_hat * (1-p_hat) / n)**0.5)), (p_hat + Z * ((p_hat * (1-p_hat) / n)**0.5)))\n",
    "print(F\" El intervalo de cofianza está dado entre {IC}\")\n"
   ]
  },
  {
   "cell_type": "code",
   "execution_count": 3,
   "id": "03c107ac",
   "metadata": {},
   "outputs": [
    {
     "name": "stdout",
     "output_type": "stream",
     "text": [
      "(np.float64(-0.06089565572476183), np.float64(0.04827782052109861))\n"
     ]
    }
   ],
   "source": [
    "# c) Calcular IC al 96% si la media del promedio de los estudiantes que no trabajan es mayor a la media de los estudiantes que si trabajan\n",
    "\n",
    "\n",
    "import pandas as pd\n",
    "from scipy.stats import t as t_dist\n",
    "dataExcel = pd.read_excel(\"C:\\\\Users\\\\DanielGP\\\\OneDrive - Caja de Compensacion Familiar de Antioquia COMFAMA\\\\Tendencias\\\\Personal\\\\Especialización\\\\Materias\\\\Estadística\\\\Induccion.xls\")\n",
    "\n",
    "XNoTrabajan = dataExcel.loc[dataExcel[\"TRAB\"] == \"NO\", \"PROM\"].mean()\n",
    "XTrabajan = dataExcel.loc[dataExcel[\"TRAB\"] == \"SI\", \"PROM\"].mean()\n",
    "STranbajan = dataExcel.loc[dataExcel[\"TRAB\"] == \"SI\", \"PROM\"].std()\n",
    "SNoTrabajan = dataExcel.loc[dataExcel[\"TRAB\"] == \"NO\", \"PROM\"].std()\n",
    "nTrabajan = dataExcel.loc[dataExcel[\"TRAB\"] == \"SI\"].shape[0]\n",
    "nNoTrabajan = dataExcel.loc[dataExcel[\"TRAB\"] == \"NO\"].shape[0]\n",
    "alpha = 1 - 0.96\n",
    "Xdiff = XNoTrabajan - XTrabajan\n",
    "GradosLibertad2 = ((SNoTrabajan**2 + STranbajan**2)**2) / ( ((SNoTrabajan**2/nNoTrabajan)**2 / (nNoTrabajan - 1)) + ((STranbajan**2/nTrabajan)**2 / (nTrabajan - 1)))\n",
    "ErrorEstandar2 = ( (SNoTrabajan**2/nNoTrabajan + STranbajan**2/nTrabajan)**0.5 )\n",
    "XTRABAJBAN = dataExcel.loc[dataExcel[\"TRAB\"] == \"SI\"]\n",
    "\n",
    "\n",
    "\n",
    "IC = t_dist.interval(0.96, df= GradosLibertad2, loc = Xdiff, scale = ErrorEstandar2)\n",
    "print(IC)\n"
   ]
  },
  {
   "cell_type": "code",
   "execution_count": 5,
   "id": "9614bfae",
   "metadata": {},
   "outputs": [
    {
     "name": "stdout",
     "output_type": "stream",
     "text": [
      "(np.float64(-16632.32601387081), np.float64(30156.53716930169))\n"
     ]
    }
   ],
   "source": [
    "# d) Asuma normalidad para analizar con un IC al 94% si el valor de la matricula medio es superior para estudiantes que trabajan en comparación con los estudiantes que no trabajan\n",
    "\n",
    "XMatriculaTrabajan = dataExcel.loc[dataExcel[\"TRAB\"] == \"SI\", \"VMATRI\"].mean()\n",
    "XMatriculaNoTrabajan = dataExcel.loc[dataExcel[\"TRAB\"] == \"NO\", \"VMATRI\"].mean()\n",
    "SMatriculaTrabajan = dataExcel.loc[dataExcel[\"TRAB\"] == \"SI\", \"VMATRI\"].std()\n",
    "SMatriculaNoTrabajan = dataExcel.loc[dataExcel[\"TRAB\"] == \"NO\", \"VMATRI\"].std()\n",
    "nTrabajan = dataExcel.loc[dataExcel[\"TRAB\"] == \"SI\"].shape[0]\n",
    "nNoTrabajan = dataExcel.loc[dataExcel[\"TRAB\"] == \"NO\"].shape[0]\n",
    "XMatriculaDiff = XMatriculaTrabajan - XMatriculaNoTrabajan\n",
    "GradosLibertadMatricula = ((SMatriculaNoTrabajan**2 + SMatriculaTrabajan**2)**2) / ( ((SMatriculaNoTrabajan**2/nNoTrabajan)**2 / (nNoTrabajan - 1)) + ((SMatriculaTrabajan**2/nTrabajan)**2 / (nTrabajan - 1)))\n",
    "ErrorEstandarMatricula = ( (SMatriculaNoTrabajan**2/nNoTrabajan + SMatriculaTrabajan**2/nTrabajan)**0.5 )\n",
    "\n",
    "IC = t_dist.interval(0.94, df= GradosLibertadMatricula, loc = XMatriculaDiff, scale = ErrorEstandarMatricula)\n",
    "print(IC)\n"
   ]
  }
 ],
 "metadata": {
  "kernelspec": {
   "display_name": "Python 3",
   "language": "python",
   "name": "python3"
  },
  "language_info": {
   "codemirror_mode": {
    "name": "ipython",
    "version": 3
   },
   "file_extension": ".py",
   "mimetype": "text/x-python",
   "name": "python",
   "nbconvert_exporter": "python",
   "pygments_lexer": "ipython3",
   "version": "3.13.4"
  }
 },
 "nbformat": 4,
 "nbformat_minor": 5
}
