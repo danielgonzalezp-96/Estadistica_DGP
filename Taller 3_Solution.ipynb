{
 "cells": [
  {
   "cell_type": "markdown",
   "id": "39a7ec8d",
   "metadata": {},
   "source": [
    "## Taller 3 - Estadística"
   ]
  },
  {
   "cell_type": "markdown",
   "id": "6274e2d4",
   "metadata": {},
   "source": [
    "En una universidad encuestaron estudiantes para recolectar informaci ́on de las siguientes variables: GENERO, ESTATURA en cent ́ımetros, MASA en kilogramos, HORAS que es el tiempo que dedica fuera de clase a estudiar semanalmente, EDAD en a ̃nos, TIEMPO lo que tarda normalmente en transportarse de su residencia a la universidad en minutos, PROM promedio general que lleva en la carrera, VMATRI el valor de la  ́ultima matrícula que pagó, ESTRATO y TRAB."
   ]
  },
  {
   "cell_type": "code",
   "execution_count": 4,
   "id": "d81a3ef6",
   "metadata": {},
   "outputs": [
    {
     "data": {
      "application/vnd.microsoft.datawrangler.viewer.v0+json": {
       "columns": [
        {
         "name": "index",
         "rawType": "int64",
         "type": "integer"
        },
        {
         "name": "GENERO",
         "rawType": "object",
         "type": "string"
        },
        {
         "name": "ESTATURA",
         "rawType": "float64",
         "type": "float"
        },
        {
         "name": "MASA",
         "rawType": "float64",
         "type": "float"
        },
        {
         "name": "HORAS",
         "rawType": "int64",
         "type": "integer"
        },
        {
         "name": "EDAD",
         "rawType": "float64",
         "type": "float"
        },
        {
         "name": "TIEMPO",
         "rawType": "float64",
         "type": "float"
        },
        {
         "name": "PROM",
         "rawType": "float64",
         "type": "float"
        },
        {
         "name": "VMATRI",
         "rawType": "float64",
         "type": "float"
        },
        {
         "name": "ESTRATO",
         "rawType": "int64",
         "type": "integer"
        },
        {
         "name": "TRAB",
         "rawType": "object",
         "type": "string"
        }
       ],
       "ref": "316d7fc2-7ae2-4d46-8f4c-8be9a1d4d840",
       "rows": [
        [
         "0",
         "MUJER",
         "155.6",
         "64.0",
         "38",
         "20.8",
         "21.8",
         "4.1",
         "1734.0",
         "4",
         "NO"
        ],
        [
         "1",
         "MUJER",
         "153.6",
         "67.4",
         "36",
         "19.0",
         "31.2",
         "3.9",
         "835.8",
         "3",
         "SI"
        ],
        [
         "2",
         "MUJER",
         "168.4",
         "62.3",
         "40",
         "20.6",
         "51.7",
         "3.5",
         "127.5",
         "1",
         "NO"
        ],
        [
         "3",
         "MUJER",
         "180.9",
         "84.2",
         "42",
         "19.3",
         "34.1",
         "4.2",
         "1659.0",
         "4",
         "NO"
        ],
        [
         "4",
         "HOMBRE",
         "165.3",
         "64.1",
         "28",
         "27.8",
         "7.2",
         "3.2",
         "915.6",
         "3",
         "NO"
        ]
       ],
       "shape": {
        "columns": 10,
        "rows": 5
       }
      },
      "text/html": [
       "<div>\n",
       "<style scoped>\n",
       "    .dataframe tbody tr th:only-of-type {\n",
       "        vertical-align: middle;\n",
       "    }\n",
       "\n",
       "    .dataframe tbody tr th {\n",
       "        vertical-align: top;\n",
       "    }\n",
       "\n",
       "    .dataframe thead th {\n",
       "        text-align: right;\n",
       "    }\n",
       "</style>\n",
       "<table border=\"1\" class=\"dataframe\">\n",
       "  <thead>\n",
       "    <tr style=\"text-align: right;\">\n",
       "      <th></th>\n",
       "      <th>GENERO</th>\n",
       "      <th>ESTATURA</th>\n",
       "      <th>MASA</th>\n",
       "      <th>HORAS</th>\n",
       "      <th>EDAD</th>\n",
       "      <th>TIEMPO</th>\n",
       "      <th>PROM</th>\n",
       "      <th>VMATRI</th>\n",
       "      <th>ESTRATO</th>\n",
       "      <th>TRAB</th>\n",
       "    </tr>\n",
       "  </thead>\n",
       "  <tbody>\n",
       "    <tr>\n",
       "      <th>0</th>\n",
       "      <td>MUJER</td>\n",
       "      <td>155.6</td>\n",
       "      <td>64.0</td>\n",
       "      <td>38</td>\n",
       "      <td>20.8</td>\n",
       "      <td>21.8</td>\n",
       "      <td>4.1</td>\n",
       "      <td>1734.0</td>\n",
       "      <td>4</td>\n",
       "      <td>NO</td>\n",
       "    </tr>\n",
       "    <tr>\n",
       "      <th>1</th>\n",
       "      <td>MUJER</td>\n",
       "      <td>153.6</td>\n",
       "      <td>67.4</td>\n",
       "      <td>36</td>\n",
       "      <td>19.0</td>\n",
       "      <td>31.2</td>\n",
       "      <td>3.9</td>\n",
       "      <td>835.8</td>\n",
       "      <td>3</td>\n",
       "      <td>SI</td>\n",
       "    </tr>\n",
       "    <tr>\n",
       "      <th>2</th>\n",
       "      <td>MUJER</td>\n",
       "      <td>168.4</td>\n",
       "      <td>62.3</td>\n",
       "      <td>40</td>\n",
       "      <td>20.6</td>\n",
       "      <td>51.7</td>\n",
       "      <td>3.5</td>\n",
       "      <td>127.5</td>\n",
       "      <td>1</td>\n",
       "      <td>NO</td>\n",
       "    </tr>\n",
       "    <tr>\n",
       "      <th>3</th>\n",
       "      <td>MUJER</td>\n",
       "      <td>180.9</td>\n",
       "      <td>84.2</td>\n",
       "      <td>42</td>\n",
       "      <td>19.3</td>\n",
       "      <td>34.1</td>\n",
       "      <td>4.2</td>\n",
       "      <td>1659.0</td>\n",
       "      <td>4</td>\n",
       "      <td>NO</td>\n",
       "    </tr>\n",
       "    <tr>\n",
       "      <th>4</th>\n",
       "      <td>HOMBRE</td>\n",
       "      <td>165.3</td>\n",
       "      <td>64.1</td>\n",
       "      <td>28</td>\n",
       "      <td>27.8</td>\n",
       "      <td>7.2</td>\n",
       "      <td>3.2</td>\n",
       "      <td>915.6</td>\n",
       "      <td>3</td>\n",
       "      <td>NO</td>\n",
       "    </tr>\n",
       "  </tbody>\n",
       "</table>\n",
       "</div>"
      ],
      "text/plain": [
       "   GENERO  ESTATURA  MASA  HORAS  EDAD  TIEMPO  PROM  VMATRI  ESTRATO TRAB\n",
       "0   MUJER     155.6  64.0     38  20.8    21.8   4.1  1734.0        4   NO\n",
       "1   MUJER     153.6  67.4     36  19.0    31.2   3.9   835.8        3   SI\n",
       "2   MUJER     168.4  62.3     40  20.6    51.7   3.5   127.5        1   NO\n",
       "3   MUJER     180.9  84.2     42  19.3    34.1   4.2  1659.0        4   NO\n",
       "4  HOMBRE     165.3  64.1     28  27.8     7.2   3.2   915.6        3   NO"
      ]
     },
     "execution_count": 4,
     "metadata": {},
     "output_type": "execute_result"
    }
   ],
   "source": [
    "import pandas as pd\n",
    "\n",
    "BDTaller3 = pd.read_excel(\"C:\\\\Users\\\\DanielGP\\\\OneDrive - Caja de Compensacion Familiar de Antioquia COMFAMA\\\\Tendencias\\\\Personal\\\\Especialización\\\\Materias\\\\Estadística\\\\Base Taller 3 EAE 2025 2.xlsx\")\n",
    "\n",
    "BDTaller3.head()"
   ]
  },
  {
   "cell_type": "code",
   "execution_count": 5,
   "id": "d12e7574",
   "metadata": {},
   "outputs": [
    {
     "name": "stdout",
     "output_type": "stream",
     "text": [
      "<class 'pandas.core.frame.DataFrame'>\n",
      "RangeIndex: 90 entries, 0 to 89\n",
      "Data columns (total 10 columns):\n",
      " #   Column    Non-Null Count  Dtype  \n",
      "---  ------    --------------  -----  \n",
      " 0   GENERO    90 non-null     object \n",
      " 1   ESTATURA  90 non-null     float64\n",
      " 2   MASA      90 non-null     float64\n",
      " 3   HORAS     90 non-null     int64  \n",
      " 4   EDAD      90 non-null     float64\n",
      " 5   TIEMPO    90 non-null     float64\n",
      " 6   PROM      90 non-null     float64\n",
      " 7   VMATRI    90 non-null     float64\n",
      " 8   ESTRATO   90 non-null     int64  \n",
      " 9   TRAB      90 non-null     object \n",
      "dtypes: float64(6), int64(2), object(2)\n",
      "memory usage: 7.2+ KB\n"
     ]
    }
   ],
   "source": [
    "BDTaller3.info()"
   ]
  },
  {
   "cell_type": "code",
   "execution_count": 6,
   "id": "edc9f68c",
   "metadata": {},
   "outputs": [
    {
     "data": {
      "application/vnd.microsoft.datawrangler.viewer.v0+json": {
       "columns": [
        {
         "name": "index",
         "rawType": "object",
         "type": "string"
        },
        {
         "name": "ESTATURA",
         "rawType": "float64",
         "type": "float"
        },
        {
         "name": "MASA",
         "rawType": "float64",
         "type": "float"
        },
        {
         "name": "HORAS",
         "rawType": "float64",
         "type": "float"
        },
        {
         "name": "EDAD",
         "rawType": "float64",
         "type": "float"
        },
        {
         "name": "TIEMPO",
         "rawType": "float64",
         "type": "float"
        },
        {
         "name": "PROM",
         "rawType": "float64",
         "type": "float"
        },
        {
         "name": "VMATRI",
         "rawType": "float64",
         "type": "float"
        },
        {
         "name": "ESTRATO",
         "rawType": "float64",
         "type": "float"
        }
       ],
       "ref": "ff665216-ade5-475d-948c-c5c5412ea375",
       "rows": [
        [
         "count",
         "90.0",
         "90.0",
         "90.0",
         "90.0",
         "90.0",
         "90.0",
         "90.0",
         "90.0"
        ],
        [
         "mean",
         "168.11111111111114",
         "66.24222222222221",
         "33.65555555555556",
         "21.398888888888887",
         "25.97888888888889",
         "3.748888888888888",
         "1185.4633333333334",
         "3.3222222222222224"
        ],
        [
         "std",
         "9.822863085730086",
         "10.307823774264788",
         "7.888494125974271",
         "3.1944296476886858",
         "20.435964631916786",
         "0.30065264008073433",
         "807.4996692454188",
         "1.2967355536615157"
        ],
        [
         "min",
         "143.4",
         "41.9",
         "14.0",
         "16.6",
         "2.2",
         "3.0",
         "54.3",
         "1.0"
        ],
        [
         "25%",
         "162.29999999999998",
         "61.15",
         "29.0",
         "19.2",
         "8.774999999999999",
         "3.5",
         "799.6500000000001",
         "3.0"
        ],
        [
         "50%",
         "166.4",
         "67.9",
         "35.0",
         "21.1",
         "21.45",
         "3.7",
         "982.2",
         "3.0"
        ],
        [
         "75%",
         "174.72500000000002",
         "73.925",
         "37.75",
         "23.3",
         "38.824999999999996",
         "4.0",
         "1553.325",
         "4.0"
        ],
        [
         "max",
         "192.6",
         "84.2",
         "60.0",
         "29.7",
         "85.2",
         "4.5",
         "3350.7",
         "6.0"
        ]
       ],
       "shape": {
        "columns": 8,
        "rows": 8
       }
      },
      "text/html": [
       "<div>\n",
       "<style scoped>\n",
       "    .dataframe tbody tr th:only-of-type {\n",
       "        vertical-align: middle;\n",
       "    }\n",
       "\n",
       "    .dataframe tbody tr th {\n",
       "        vertical-align: top;\n",
       "    }\n",
       "\n",
       "    .dataframe thead th {\n",
       "        text-align: right;\n",
       "    }\n",
       "</style>\n",
       "<table border=\"1\" class=\"dataframe\">\n",
       "  <thead>\n",
       "    <tr style=\"text-align: right;\">\n",
       "      <th></th>\n",
       "      <th>ESTATURA</th>\n",
       "      <th>MASA</th>\n",
       "      <th>HORAS</th>\n",
       "      <th>EDAD</th>\n",
       "      <th>TIEMPO</th>\n",
       "      <th>PROM</th>\n",
       "      <th>VMATRI</th>\n",
       "      <th>ESTRATO</th>\n",
       "    </tr>\n",
       "  </thead>\n",
       "  <tbody>\n",
       "    <tr>\n",
       "      <th>count</th>\n",
       "      <td>90.000000</td>\n",
       "      <td>90.000000</td>\n",
       "      <td>90.000000</td>\n",
       "      <td>90.000000</td>\n",
       "      <td>90.000000</td>\n",
       "      <td>90.000000</td>\n",
       "      <td>90.000000</td>\n",
       "      <td>90.000000</td>\n",
       "    </tr>\n",
       "    <tr>\n",
       "      <th>mean</th>\n",
       "      <td>168.111111</td>\n",
       "      <td>66.242222</td>\n",
       "      <td>33.655556</td>\n",
       "      <td>21.398889</td>\n",
       "      <td>25.978889</td>\n",
       "      <td>3.748889</td>\n",
       "      <td>1185.463333</td>\n",
       "      <td>3.322222</td>\n",
       "    </tr>\n",
       "    <tr>\n",
       "      <th>std</th>\n",
       "      <td>9.822863</td>\n",
       "      <td>10.307824</td>\n",
       "      <td>7.888494</td>\n",
       "      <td>3.194430</td>\n",
       "      <td>20.435965</td>\n",
       "      <td>0.300653</td>\n",
       "      <td>807.499669</td>\n",
       "      <td>1.296736</td>\n",
       "    </tr>\n",
       "    <tr>\n",
       "      <th>min</th>\n",
       "      <td>143.400000</td>\n",
       "      <td>41.900000</td>\n",
       "      <td>14.000000</td>\n",
       "      <td>16.600000</td>\n",
       "      <td>2.200000</td>\n",
       "      <td>3.000000</td>\n",
       "      <td>54.300000</td>\n",
       "      <td>1.000000</td>\n",
       "    </tr>\n",
       "    <tr>\n",
       "      <th>25%</th>\n",
       "      <td>162.300000</td>\n",
       "      <td>61.150000</td>\n",
       "      <td>29.000000</td>\n",
       "      <td>19.200000</td>\n",
       "      <td>8.775000</td>\n",
       "      <td>3.500000</td>\n",
       "      <td>799.650000</td>\n",
       "      <td>3.000000</td>\n",
       "    </tr>\n",
       "    <tr>\n",
       "      <th>50%</th>\n",
       "      <td>166.400000</td>\n",
       "      <td>67.900000</td>\n",
       "      <td>35.000000</td>\n",
       "      <td>21.100000</td>\n",
       "      <td>21.450000</td>\n",
       "      <td>3.700000</td>\n",
       "      <td>982.200000</td>\n",
       "      <td>3.000000</td>\n",
       "    </tr>\n",
       "    <tr>\n",
       "      <th>75%</th>\n",
       "      <td>174.725000</td>\n",
       "      <td>73.925000</td>\n",
       "      <td>37.750000</td>\n",
       "      <td>23.300000</td>\n",
       "      <td>38.825000</td>\n",
       "      <td>4.000000</td>\n",
       "      <td>1553.325000</td>\n",
       "      <td>4.000000</td>\n",
       "    </tr>\n",
       "    <tr>\n",
       "      <th>max</th>\n",
       "      <td>192.600000</td>\n",
       "      <td>84.200000</td>\n",
       "      <td>60.000000</td>\n",
       "      <td>29.700000</td>\n",
       "      <td>85.200000</td>\n",
       "      <td>4.500000</td>\n",
       "      <td>3350.700000</td>\n",
       "      <td>6.000000</td>\n",
       "    </tr>\n",
       "  </tbody>\n",
       "</table>\n",
       "</div>"
      ],
      "text/plain": [
       "         ESTATURA       MASA      HORAS       EDAD     TIEMPO       PROM  \\\n",
       "count   90.000000  90.000000  90.000000  90.000000  90.000000  90.000000   \n",
       "mean   168.111111  66.242222  33.655556  21.398889  25.978889   3.748889   \n",
       "std      9.822863  10.307824   7.888494   3.194430  20.435965   0.300653   \n",
       "min    143.400000  41.900000  14.000000  16.600000   2.200000   3.000000   \n",
       "25%    162.300000  61.150000  29.000000  19.200000   8.775000   3.500000   \n",
       "50%    166.400000  67.900000  35.000000  21.100000  21.450000   3.700000   \n",
       "75%    174.725000  73.925000  37.750000  23.300000  38.825000   4.000000   \n",
       "max    192.600000  84.200000  60.000000  29.700000  85.200000   4.500000   \n",
       "\n",
       "            VMATRI    ESTRATO  \n",
       "count    90.000000  90.000000  \n",
       "mean   1185.463333   3.322222  \n",
       "std     807.499669   1.296736  \n",
       "min      54.300000   1.000000  \n",
       "25%     799.650000   3.000000  \n",
       "50%     982.200000   3.000000  \n",
       "75%    1553.325000   4.000000  \n",
       "max    3350.700000   6.000000  "
      ]
     },
     "execution_count": 6,
     "metadata": {},
     "output_type": "execute_result"
    }
   ],
   "source": [
    "BDTaller3.describe()"
   ]
  },
  {
   "cell_type": "code",
   "execution_count": null,
   "id": "f0f86ab9",
   "metadata": {},
   "outputs": [],
   "source": [
    "# 1) Evaluar mediante una prueba de hipotesis si puede afirmarse que el resultado medio\n",
    "#de la masa de la poblacion de estudiantes es minimo de 66 kilogramos? justifique su respuesta con un nivel de significancia del 5 %."
   ]
  },
  {
   "cell_type": "code",
   "execution_count": null,
   "id": "56d62d17",
   "metadata": {},
   "outputs": [],
   "source": [
    "# 2) Evaluar mediante una prueba de hipotesis si puede afirmarse que la proporcion de\n",
    "# de estrato minimo 4 es maximo 0.3? justifique su respuesta con un nivel de significancia del 4 %."
   ]
  },
  {
   "cell_type": "code",
   "execution_count": null,
   "id": "25bf509f",
   "metadata": {},
   "outputs": [],
   "source": [
    "# 3) Evaluar mediante una prueba de hipotesis si puede afirmarse que los estudiantes que no trabajan dedican \n",
    "# en promedio al menos 20 minutos más en transportarse de su residencia a la universidad que los estudiantes que trabajan? \n",
    "# justifique su respuesta con un nivel de significancia del 3 %."
   ]
  },
  {
   "cell_type": "code",
   "execution_count": null,
   "id": "a7dd402d",
   "metadata": {},
   "outputs": [],
   "source": [
    "# 4) ¿Se puede afirmar que la proporción de estudiantes hombres es superior a la proporción de mujeres \n",
    "# esta universidad?, justifique su respuesta con un nivel de significancia del 6 %. "
   ]
  }
 ],
 "metadata": {
  "kernelspec": {
   "display_name": "Python 3",
   "language": "python",
   "name": "python3"
  },
  "language_info": {
   "codemirror_mode": {
    "name": "ipython",
    "version": 3
   },
   "file_extension": ".py",
   "mimetype": "text/x-python",
   "name": "python",
   "nbconvert_exporter": "python",
   "pygments_lexer": "ipython3",
   "version": "3.13.4"
  }
 },
 "nbformat": 4,
 "nbformat_minor": 5
}
