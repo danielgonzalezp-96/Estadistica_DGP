{
 "cells": [
  {
   "cell_type": "code",
   "execution_count": 5,
   "id": "3759ad1c",
   "metadata": {},
   "outputs": [
    {
     "name": "stdout",
     "output_type": "stream",
     "text": [
      "0.10000000000000009\n"
     ]
    }
   ],
   "source": [
    "from scipy.stats import uniform\n",
    "\n",
    "U1_6 = uniform.cdf(1.6,1,2)\n",
    "U1_5 = uniform.cdf(1.5,1,2)\n",
    "U2_6 = uniform.cdf(2.6,1,2)\n",
    "U2_5 = uniform.cdf(2.5,1,2)\n",
    "print(U1_6 - U1_5 + U2_6 - U2_5)"
   ]
  },
  {
   "cell_type": "code",
   "execution_count": null,
   "id": "279ae93b",
   "metadata": {},
   "outputs": [
    {
     "name": "stdout",
     "output_type": "stream",
     "text": [
      " probabilidad de 0.3333333333333333 %\n"
     ]
    }
   ],
   "source": [
    "#Ejemplo 2 (x,a, b-a)\n",
    "\n",
    "print(f\" probabilidad de {uniform.cdf(30,20,30)} %\")"
   ]
  },
  {
   "cell_type": "code",
   "execution_count": 12,
   "id": "05a85026",
   "metadata": {},
   "outputs": [
    {
     "name": "stdout",
     "output_type": "stream",
     "text": [
      " probabilidad de 0.6 %\n"
     ]
    }
   ],
   "source": [
    "print(f\" probabilidad de {uniform.cdf(40,25,25)} %\")"
   ]
  },
  {
   "cell_type": "code",
   "execution_count": 13,
   "id": "daa98665",
   "metadata": {},
   "outputs": [
    {
     "name": "stdout",
     "output_type": "stream",
     "text": [
      " Con un tiempo medio de entrega 35.0 minutos y una desviacion estandar de 8.660254037844387 minutos\n"
     ]
    }
   ],
   "source": [
    "print(f\" Con un tiempo medio de entrega {(20+50) / 2} minutos y una desviacion estandar de {(50-20) / (12**0.5)} minutos\")"
   ]
  },
  {
   "cell_type": "markdown",
   "id": "536b8dfc",
   "metadata": {},
   "source": [
    "Distribución de probabilidad normal"
   ]
  },
  {
   "cell_type": "code",
   "execution_count": 16,
   "id": "c8a38a77",
   "metadata": {},
   "outputs": [
    {
     "name": "stdout",
     "output_type": "stream",
     "text": [
      " probabilidad de 0.624655260005155 %\n"
     ]
    }
   ],
   "source": [
    "from scipy.stats import norm\n",
    "\n",
    "print( f\" probabilidad de {norm.cdf(4,1,2) - norm.cdf(0,1,2)} %\")"
   ]
  },
  {
   "cell_type": "code",
   "execution_count": 31,
   "id": "b5f96ba4",
   "metadata": {},
   "outputs": [
    {
     "name": "stdout",
     "output_type": "stream",
     "text": [
      " probabilidad de 65.8655253931457 %\n"
     ]
    }
   ],
   "source": [
    "print(f\" probabilidad de {(1 - (norm.cdf(1,1,2) - norm.cdf(-1,1,2))) * 100} %\")"
   ]
  },
  {
   "cell_type": "code",
   "execution_count": 22,
   "id": "e28b3259",
   "metadata": {},
   "outputs": [
    {
     "name": "stdout",
     "output_type": "stream",
     "text": [
      "3.842058549219411\n"
     ]
    }
   ],
   "source": [
    "# ejercicio 3\n",
    "\n",
    "print(norm.ppf(0.05, 4.5, 0.4))"
   ]
  },
  {
   "cell_type": "code",
   "execution_count": 29,
   "id": "80f86e8e",
   "metadata": {},
   "outputs": [
    {
     "name": "stdout",
     "output_type": "stream",
     "text": [
      " una proporción de cables defectuosos de 21.129954733371115 %\n"
     ]
    }
   ],
   "source": [
    "#Ejercicio cables\n",
    "print (f\" una proporción de cables defectuosos de {(1 - (norm.cdf(0.825, 0.8, 0.02)- norm.cdf(0.775, 0.8, 0.02)))*100} %\")"
   ]
  },
  {
   "cell_type": "code",
   "execution_count": null,
   "id": "e5c1358c",
   "metadata": {},
   "outputs": [
    {
     "name": "stdout",
     "output_type": "stream",
     "text": [
      "0.15451540540056827\n"
     ]
    }
   ],
   "source": [
    "# binomial\n",
    "from scipy.stats import binom\n",
    "\n",
    "print(binom.sf(24, 1000, 0.02))  #binom.cdf(x,n,p)"
   ]
  },
  {
   "cell_type": "code",
   "execution_count": 47,
   "id": "cd657b0c",
   "metadata": {},
   "outputs": [
    {
     "name": "stdout",
     "output_type": "stream",
     "text": [
      "0.15470843194796313\n"
     ]
    }
   ],
   "source": [
    "#proximación a la normal de una binomial\n",
    "print(1- (norm.cdf(24.5, 20, (19.6)**0.5))) "
   ]
  },
  {
   "cell_type": "code",
   "execution_count": 49,
   "id": "3c4339b8",
   "metadata": {},
   "outputs": [
    {
     "name": "stdout",
     "output_type": "stream",
     "text": [
      " 77.19688887616411 %\n"
     ]
    }
   ],
   "source": [
    "#Ejemplo 2 de aproximación a la normal desde la binomial\n",
    "print(f\" {binom.sf(150, 16000000, 1e-5) * 100} %\" )  #binom.cdf(x,n,p)"
   ]
  },
  {
   "cell_type": "code",
   "execution_count": 58,
   "id": "da8db62f",
   "metadata": {},
   "outputs": [
    {
     "name": "stdout",
     "output_type": "stream",
     "text": [
      " 77.36871224821209 %\n"
     ]
    }
   ],
   "source": [
    "# Aproximación a la normal de una binomial\n",
    "print(f\" {(1 - (norm.cdf(150.5, (16000000*1e-5), (16000000*1e-5*(1-1e-5))**0.5)))*100} %\")"
   ]
  },
  {
   "cell_type": "markdown",
   "id": "83bdd15a",
   "metadata": {},
   "source": [
    "Distribución de probabilidad exponencial"
   ]
  },
  {
   "cell_type": "code",
   "execution_count": 67,
   "id": "ad2c843e",
   "metadata": {},
   "outputs": [
    {
     "name": "stdout",
     "output_type": "stream",
     "text": [
      " 0.30032746262486965 %\n"
     ]
    }
   ],
   "source": [
    "from scipy.stats import expon\n",
    "\n",
    "print(f\" {expon.cdf(0.5, scale = 1.4)} %\")"
   ]
  },
  {
   "cell_type": "code",
   "execution_count": 76,
   "id": "2271b4dc",
   "metadata": {},
   "outputs": [
    {
     "name": "stdout",
     "output_type": "stream",
     "text": [
      " probabilidad de 0.24787521766663584 % de esperar más de 1 hora por un taxi\n"
     ]
    }
   ],
   "source": [
    "# Ejercicio tiempo de llegada de los taxis a un acopio\n",
    "print(f\" probabilidad de {expon.sf(60, scale = 10) * 100} % de esperar más de 1 hora por un taxi\")"
   ]
  },
  {
   "cell_type": "code",
   "execution_count": 93,
   "id": "6428e24a",
   "metadata": {},
   "outputs": [
    {
     "name": "stdout",
     "output_type": "stream",
     "text": [
      " probabilidad de 63.369132257372186 %\n"
     ]
    }
   ],
   "source": [
    "#Está mala, revisar\n",
    "\n",
    "print(f\" probabilidad de {(expon.cdf(10, scale = 10) / expon.cdf(60, scale = 10)) * 100} %\")"
   ]
  },
  {
   "cell_type": "code",
   "execution_count": 80,
   "id": "dec1c740",
   "metadata": {},
   "outputs": [
    {
     "name": "stdout",
     "output_type": "stream",
     "text": [
      " probabilidad de 63.212055882855765 %\n"
     ]
    }
   ],
   "source": [
    "print(f\" probabilidad de {expon.cdf(10,scale = 10) * 100} %\")"
   ]
  },
  {
   "cell_type": "markdown",
   "id": "b63ffd4b",
   "metadata": {},
   "source": [
    "## Estimadores\n",
    "Solución de hallar la media de de una muestra aleatoria de grandes establecimientos de Medellín\n",
    "\n"
   ]
  },
  {
   "cell_type": "code",
   "execution_count": 10,
   "id": "752be909",
   "metadata": {},
   "outputs": [
    {
     "name": "stdout",
     "output_type": "stream",
     "text": [
      " La media es 8.0, la varianza es 15.777777777777779 y las ventas mayores a 5 son 60.0 % del total\n"
     ]
    }
   ],
   "source": [
    "import numpy as np \n",
    "\n",
    "Ventas = np.array([16,10,8,12,4,6,5,4,10,5])\n",
    "\n",
    "Media = Ventas.mean()\n",
    "Varianza = Ventas.var(ddof=1)\n",
    "VentasMayoresA5 = (Ventas > 5).mean() * 100\n",
    "\n",
    "print(f\" La media es {Media}, la varianza es {Varianza} y las ventas mayores a 5 son {VentasMayoresA5} % del total\")"
   ]
  },
  {
   "cell_type": "code",
   "execution_count": 17,
   "id": "cab1e852",
   "metadata": {},
   "outputs": [
    {
     "name": "stdout",
     "output_type": "stream",
     "text": [
      "1.959963984540054\n"
     ]
    }
   ],
   "source": [
    "#Ejercicio del anillo\n",
    "\n",
    "from scipy.stats import norm\n",
    "\n",
    "\n",
    "print(norm.ppf(1-(0.05/2)))"
   ]
  },
  {
   "cell_type": "code",
   "execution_count": null,
   "id": "1baa20f8",
   "metadata": {},
   "outputs": [
    {
     "name": "stdout",
     "output_type": "stream",
     "text": [
      "(np.float64(74.02343528099352), np.float64(74.05656471900649))\n"
     ]
    }
   ],
   "source": [
    "#Intervalo de confianza al 95% para el diametro promedio verdadero del anillo\n",
    "#(x̄ - Zα/2* (σ/√n), x̄ + Zα/2* (σ/√n))\n",
    "\n",
    "#Se calcula alredor del promedio muestral\n",
    "\n",
    "σ = 0.05\n",
    "xbar = 74.04\n",
    "n = 35\n",
    "Z = norm.ppf(1-(0.05/2))\n",
    "IC = (xbar - Z * (σ/n**0.5), xbar + Z * (σ/n**0.5))\n",
    "print(IC)\n",
    "\n"
   ]
  },
  {
   "cell_type": "code",
   "execution_count": 21,
   "id": "4fcb150c",
   "metadata": {},
   "outputs": [
    {
     "name": "stdout",
     "output_type": "stream",
     "text": [
      "96.03647051735311\n"
     ]
    }
   ],
   "source": [
    "#Ahora con intervalo con precisión de 0.01 al 95%\n",
    "#Ecuación para n: n = (Zα/2 * σ / E )**2\n",
    "E = 0.01\n",
    "n = (Z * σ / E )**2\n",
    "print(n)"
   ]
  },
  {
   "cell_type": "code",
   "execution_count": null,
   "id": "18c71eff",
   "metadata": {},
   "outputs": [
    {
     "name": "stdout",
     "output_type": "stream",
     "text": [
      "(np.float64(8.219989326998414), np.float64(8.248010673001586))\n"
     ]
    }
   ],
   "source": [
    "#Ejercicio de una máquina que produce varillas de metal usando la t de student\n",
    "#(x̄ - tα/2* (σ/√n), x̄ + tα/2* (σ/√n)) \n",
    "\n",
    "from scipy.stats import t\n",
    "\n",
    "n = 15\n",
    "alfa = 1- 0.95\n",
    "σ = 0.0253\n",
    "xbar = 8.234\n",
    "t = t.ppf(1-(alfa/2), n-1)\n",
    "\n",
    "IC = (xbar - t * (σ/n**0.5), xbar + t * (σ/n**0.5))\n",
    "print(IC)"
   ]
  },
  {
   "cell_type": "code",
   "execution_count": 33,
   "id": "056a8a93",
   "metadata": {},
   "outputs": [
    {
     "data": {
      "text/plain": [
       "(np.float64(8.219989326998414), np.float64(8.248010673001586))"
      ]
     },
     "execution_count": 33,
     "metadata": {},
     "output_type": "execute_result"
    }
   ],
   "source": [
    "# Ahora con t.interval\n",
    "\n",
    "from scipy.stats import t as t_dist\n",
    "\n",
    "t_dist.interval(0.95, n-1, xbar, scale = σ/n**0.5)"
   ]
  }
 ],
 "metadata": {
  "kernelspec": {
   "display_name": "Python 3",
   "language": "python",
   "name": "python3"
  },
  "language_info": {
   "codemirror_mode": {
    "name": "ipython",
    "version": 3
   },
   "file_extension": ".py",
   "mimetype": "text/x-python",
   "name": "python",
   "nbconvert_exporter": "python",
   "pygments_lexer": "ipython3",
   "version": "3.13.4"
  }
 },
 "nbformat": 4,
 "nbformat_minor": 5
}
