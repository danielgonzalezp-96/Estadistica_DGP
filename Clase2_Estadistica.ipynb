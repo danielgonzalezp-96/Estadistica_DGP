{
 "cells": [
  {
   "cell_type": "code",
   "execution_count": null,
   "id": "6d81d5a7",
   "metadata": {},
   "outputs": [],
   "source": [
    "from scipy.stats import binom\n",
    "\n",
    "\n",
    "f\" {binom.pmf(6,10,0.25) * 100} %\""
   ]
  },
  {
   "cell_type": "code",
   "execution_count": null,
   "id": "5a9b9550",
   "metadata": {},
   "outputs": [],
   "source": [
    "print(f\" {(1-binom.cdf(5,10,0.25)) *100 } %\")"
   ]
  },
  {
   "cell_type": "markdown",
   "id": "180c0da9",
   "metadata": {},
   "source": [
    "Ejercicio de distribución binomial con:\n",
    "n = 25\n",
    "p = 0,25\n",
    "x = (x<= 6), (x= 6), (x >= 6) (x > 6)"
   ]
  },
  {
   "cell_type": "code",
   "execution_count": null,
   "id": "c58bd9ae",
   "metadata": {},
   "outputs": [],
   "source": [
    "print(f\" con (x<= 6) = {binom.cdf(6,25,0.25)}\")"
   ]
  },
  {
   "cell_type": "code",
   "execution_count": null,
   "id": "d6ca7841",
   "metadata": {},
   "outputs": [],
   "source": [
    "print(f\" con (x<= 6) = {binom.pmf(6,25,0.25)}\")"
   ]
  },
  {
   "cell_type": "code",
   "execution_count": null,
   "id": "9c4ed6f9",
   "metadata": {},
   "outputs": [],
   "source": [
    "print(f\" con (x >= 6) =  {1-binom.cdf(5,10,0.25)}\")"
   ]
  },
  {
   "cell_type": "code",
   "execution_count": null,
   "id": "b78162c4",
   "metadata": {},
   "outputs": [],
   "source": [
    "print(f\" con (x > 6) = {binom.sf(6,25,0.25)}\")"
   ]
  },
  {
   "cell_type": "code",
   "execution_count": null,
   "id": "cfd1c3c4",
   "metadata": {},
   "outputs": [],
   "source": [
    "print(f\" Esperanza = {25 * 0.25}\")"
   ]
  },
  {
   "cell_type": "code",
   "execution_count": null,
   "id": "2a8085f2",
   "metadata": {},
   "outputs": [],
   "source": [
    "print(f\" Varianza = {25 * 0.25 * (1-0.25)}\")"
   ]
  },
  {
   "cell_type": "code",
   "execution_count": null,
   "id": "85aa16bd",
   "metadata": {},
   "outputs": [],
   "source": [
    "import math\n",
    "\n",
    "print(f\" Desviación estandar:= {math.sqrt(4.6875)}\")"
   ]
  },
  {
   "cell_type": "code",
   "execution_count": null,
   "id": "547e2244",
   "metadata": {},
   "outputs": [
    {
     "name": "stdout",
     "output_type": "stream",
     "text": [
      " P(X>= 2) = 0.924081066284053\n"
     ]
    }
   ],
   "source": [
    "from scipy.stats import hypergeom\n",
    "\n",
    "# para N = 50, k = 30, n =5\n",
    "\n",
    "print(f\" P(X>= 2) = {1 - hypergeom.cdf(1,50,30,5)}\")"
   ]
  },
  {
   "cell_type": "code",
   "execution_count": null,
   "id": "e52f7094",
   "metadata": {},
   "outputs": [
    {
     "name": "stdout",
     "output_type": "stream",
     "text": [
      " P(X > 2) = 0.3011857707509882\n"
     ]
    }
   ],
   "source": [
    "# N= 25, k = 5, n = 10 Ejercicio población animal en extinción\n",
    "\n",
    "print(f\" P(X = 2) = {hypergeom.pmf(2,25,5,10)}\")"
   ]
  },
  {
   "cell_type": "code",
   "execution_count": 41,
   "id": "6dac522c",
   "metadata": {},
   "outputs": [
    {
     "name": "stdout",
     "output_type": "stream",
     "text": [
      " P(X <= 2) = 0.6988142292490118\n"
     ]
    }
   ],
   "source": [
    "print(f\" P(X <= 2) = {hypergeom.cdf(2,25,5,10)}\")"
   ]
  },
  {
   "cell_type": "code",
   "execution_count": null,
   "id": "6e903f92",
   "metadata": {},
   "outputs": [
    {
     "name": "stdout",
     "output_type": "stream",
     "text": [
      " P(X >= 3) = 0.42657342657342656\n"
     ]
    }
   ],
   "source": [
    "# N= 15, n = 7, k =  5. Ejercicio de bolas aleatorias entre rojas y azules\n",
    "\n",
    "print(f\" P(X >= 3) = {1 - hypergeom.cdf(2,15,5,7)}\")"
   ]
  },
  {
   "cell_type": "code",
   "execution_count": null,
   "id": "0ae16a3c",
   "metadata": {},
   "outputs": [
    {
     "name": "stdout",
     "output_type": "stream",
     "text": [
      " P(X >= 2) = 0.9995006007726127\n"
     ]
    }
   ],
   "source": [
    "from scipy.stats import poisson\n",
    "\n",
    "#Llamdas en una central de llamadas, donde se recibe en promedio 10 llamadas por minuto, donde x = # llamadas por minuto\n",
    "\n",
    "print(f\" P(X >= 2) = {poisson.sf(1,10)}\")"
   ]
  },
  {
   "cell_type": "code",
   "execution_count": 44,
   "id": "900aeaa0",
   "metadata": {},
   "outputs": [
    {
     "name": "stdout",
     "output_type": "stream",
     "text": [
      " con (x = 15) = 0.034718069630684245 \n"
     ]
    }
   ],
   "source": [
    "print(f\" con (x = 15) = {(poisson.pmf(15,10))} \")"
   ]
  },
  {
   "cell_type": "code",
   "execution_count": 46,
   "id": "e4f660c6",
   "metadata": {},
   "outputs": [
    {
     "name": "stdout",
     "output_type": "stream",
     "text": [
      " con (x = 0) = 4.5399929762484854e-05 \n"
     ]
    }
   ],
   "source": [
    "print(f\" con (x = 0) = {(poisson.pmf(0,10))} \")"
   ]
  }
 ],
 "metadata": {
  "kernelspec": {
   "display_name": "Python 3",
   "language": "python",
   "name": "python3"
  },
  "language_info": {
   "codemirror_mode": {
    "name": "ipython",
    "version": 3
   },
   "file_extension": ".py",
   "mimetype": "text/x-python",
   "name": "python",
   "nbconvert_exporter": "python",
   "pygments_lexer": "ipython3",
   "version": "3.13.4"
  }
 },
 "nbformat": 4,
 "nbformat_minor": 5
}
