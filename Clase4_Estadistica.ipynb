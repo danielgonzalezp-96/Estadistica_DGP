{
 "cells": [
  {
   "cell_type": "code",
   "execution_count": null,
   "id": "ca46cc6a",
   "metadata": {},
   "outputs": [
    {
     "name": "stdout",
     "output_type": "stream",
     "text": [
      "1.6448536269514722\n"
     ]
    }
   ],
   "source": [
    "from scipy.stats import norm, t as t_dist\n",
    "\n",
    "zalfa4 = norm.ppf(1 - 0.05)\n",
    "print(zalfa4)"
   ]
  },
  {
   "cell_type": "code",
   "execution_count": null,
   "id": "9cd2ded5",
   "metadata": {},
   "outputs": [
    {
     "name": "stdout",
     "output_type": "stream",
     "text": [
      "El valor de la estadistica de prueba es o Tc: -2.3548479656002774\n",
      "El valor critico es: -1.7613101357748564\n",
      "El valor p es: 0.016825485729276977\n",
      "Se rechaza H0, por lo tanto se concluye que el voltaje de corte es menor a 0.6V\n"
     ]
    }
   ],
   "source": [
    "#Ejercicio 6\n",
    "# Un diodo de silicio usado para propósitos especificos requiere un voltaje de corte promedio de 0,6 V y si este no se alcanza,\n",
    "# la cantidad de impurezas en la fabricación de los diodos debe ser ajustada. Suponga que la distribución del voltaje de corte de fabricación\n",
    "# posee una distribución normal. \n",
    "\n",
    "#x = voltaje de corte de los diodos\n",
    "# xi ~ N(μ, σ2)\n",
    "# Ho : μ = 0.6, que también es H1: μ >= 0.6\n",
    "# Ha : μ < 0.6\n",
    "\n",
    "N = 15\n",
    "Xbar = 0.545333\n",
    "S = 0.089910   # Desviación estándar muestral\n",
    "alfa = 0.05\n",
    "μ = 0.6\n",
    "\n",
    "# a) pruebe a un nivel de significancia de alfa = 0.05, la hipotesis que H0: μ = 0.6 vs Ha: μ < 0.6\n",
    "\n",
    "#Estadistica de prueba\n",
    "Tc = (Xbar - μ) / (S / (N**0.5))\n",
    "print(\"El valor de la estadistica de prueba es o Tc:\", Tc)\n",
    "\n",
    "#Región de rechazo\n",
    "t_alfa = t_dist.ppf(alfa, N - 1)\n",
    "print(\"El valor critico es:\", t_alfa)\n",
    "\n",
    "#Con valor p\n",
    "P_Value = t_dist.cdf(Tc, N - 1)\n",
    "print(\"El valor p es:\", P_Value)\n",
    "\n",
    "#Conclusión\n",
    "if Tc < t_alfa and P_Value < alfa:\n",
    "    print(\"Se rechaza H0, por lo tanto se concluye que el voltaje de corte es menor a 0.6V\")\n",
    "else:\n",
    "    print(\"No se rechaza H0, por lo tanto no se puede concluir que el voltaje de corte es menor a 0.6V\")\n",
    "    \n",
    "# Si se cumple la hipostesis nula, se rechaza. \n"
   ]
  },
  {
   "cell_type": "code",
   "execution_count": 23,
   "id": "981e724b",
   "metadata": {},
   "outputs": [
    {
     "name": "stdout",
     "output_type": "stream",
     "text": [
      "El valor de la estadistica de prueba es: -2.3548479656002774\n",
      "El valor critico es: -2.6244940675602315\n",
      "El valor p es: 0.016825485729276977\n",
      "No se rechaza H0, por lo tanto no se puede concluir que el voltaje de corte es menor a 0.6V\n"
     ]
    }
   ],
   "source": [
    "# b) repita el itém anterior pero con alfa = 0.01\n",
    "alfa = 0.01\n",
    "\n",
    "#Estadistica de prueba\n",
    "Tc = (Xbar - μ) / (S / (N**0.5))\n",
    "print(\"El valor de la estadistica de prueba es:\", Tc)\n",
    "\n",
    "#Región de rechazo\n",
    "t_alfa = t_dist.ppf(alfa, N - 1)\n",
    "print(\"El valor critico es:\", t_alfa)\n",
    "\n",
    "#Con valor p\n",
    "P_Value = t_dist.cdf(Tc, N - 1)\n",
    "print(\"El valor p es:\", P_Value)\n",
    "\n",
    "#Conclusión\n",
    "if Tc < t_alfa:\n",
    "    print(\"Se rechaza H0, por lo tanto se concluye que el voltaje de corte es menor a 0.6V\")\n",
    "else:\n",
    "    print(\"No se rechaza H0, por lo tanto no se puede concluir que el voltaje de corte es menor a 0.6V\")\n",
    "    \n",
    "# En conclusión, no se rechaza la hipótesis nula, por lo tanto no se puede concluir que el voltaje de corte es menor a 0.6V\n"
   ]
  },
  {
   "cell_type": "code",
   "execution_count": null,
   "id": "19aa4c82",
   "metadata": {},
   "outputs": [
    {
     "name": "stdout",
     "output_type": "stream",
     "text": [
      "El valor de la estadistica de prueba es: -2.3548479656002774\n",
      "El valor p es: 0.033650971458553953\n",
      "para un alfa de 0.05 se rechaza H0, por lo tanto se concluye que el voltaje de corte es diferente a 0.6V\n",
      "para un alfa de 0.01 no se rechaza H0, por lo tanto se concluye que el voltaje de corte es igual a 0.6V\n"
     ]
    }
   ],
   "source": [
    "# c) Para niveles de significancia alfa = 0.05 y alfa = 0.01, pruebe H0: μ = 0.6 vs Ha: μ ≠ 0.6. Contraste con la regla de decisión basada en el valor p.\n",
    "# Hipotesis H0: μ = 0.6 vs Ha: μ ≠ 0.6, se cumple? \n",
    "alfa = 0.05\n",
    "alfa2 = 0.01\n",
    "\n",
    "#Estadistica de prueba\n",
    "Tc = (Xbar - μ) / (S / (N**0.5))\n",
    "print(\"El valor de la estadistica de prueba es:\", Tc)\n",
    "\n",
    "\n",
    "#Con valor p\n",
    "P_Value = 2 * t_dist.sf(abs(Tc), N - 1)\n",
    "print(\"El valor p es:\", P_Value)\n",
    "\n",
    "#Conclusión\n",
    "if P_Value < alfa:\n",
    "    print(\"para un alfa de 0.05 se rechaza H0, por lo tanto se concluye que el voltaje de corte es diferente a 0.6V\")\n",
    "else:\n",
    "    print(\"para un alfa de 0.05 no se rechaza H0, por lo tanto se concluye que el voltaje de corte es igual a 0.6V\")\n",
    "    \n",
    "# Repetimos para alfa = 0.01\n",
    "if P_Value < alfa2:\n",
    "    print(\"para un alfa de 0.01 se rechaza H0, por lo tanto se concluye que el voltaje de corte es diferente a 0.6V\")\n",
    "else:\n",
    "    print(\"para un alfa de 0.01 no se rechaza H0, por lo tanto se concluye que el voltaje de corte es igual a 0.6V\")\n",
    "    \n",
    "#En el único caso en el que se acepta la alterna es cuando se hace a dos colas. \n"
   ]
  },
  {
   "cell_type": "code",
   "execution_count": 27,
   "id": "486365d1",
   "metadata": {},
   "outputs": [
    {
     "name": "stdout",
     "output_type": "stream",
     "text": [
      "1.7635232077782121\n",
      "0.038906143304820034\n"
     ]
    }
   ],
   "source": [
    "# Sean miu1 y miu2 las duraciones pormedio verdaderas de dos marcas de bandas de rodamiento. La primera marca se trata de un tipo\n",
    "# premium de neumático y la segunda de una marca económica, se afirma que la duración de la marca económica se ve superada en más de 5000\n",
    "# unidades por la duración de un neumático tipo premium. Se dispone de los siguiente datos. \n",
    "#x = duración de las bandas de rodamiento\n",
    "# xi ~ N(μ, σ2)\n",
    "\n",
    "n1 = n2 = 45\n",
    "Xbar1 = 42500\n",
    "Xbar2 = 36800\n",
    "S1 = 2200\n",
    "S2 = 1500\n",
    "alfa = 0.01\n",
    "XbarDiff = Xbar1 - Xbar2\n",
    "\n",
    "# a) Verifique si es cierta la afirmación con un nivel de significancia alfa = 0.01\n",
    "# Hipotesis H0: μ1 - μ2 >= 5000 vs Ha: μ1 - μ2 > 5000\n",
    "\n",
    "#Estadistica de prueba\n",
    "Zc = ((Xbar1 - Xbar2) - 5000)/ ((S1**2/n1 ) + (S2**2/ n2))**0.5\n",
    "print(Zc)\n",
    "\n",
    "#Región de rechazo\n",
    "Zalpha = norm.sf(Zc)\n",
    "print(Zalpha)\n",
    "\n"
   ]
  }
 ],
 "metadata": {
  "kernelspec": {
   "display_name": "Python 3",
   "language": "python",
   "name": "python3"
  },
  "language_info": {
   "codemirror_mode": {
    "name": "ipython",
    "version": 3
   },
   "file_extension": ".py",
   "mimetype": "text/x-python",
   "name": "python",
   "nbconvert_exporter": "python",
   "pygments_lexer": "ipython3",
   "version": "3.13.4"
  }
 },
 "nbformat": 4,
 "nbformat_minor": 5
}
