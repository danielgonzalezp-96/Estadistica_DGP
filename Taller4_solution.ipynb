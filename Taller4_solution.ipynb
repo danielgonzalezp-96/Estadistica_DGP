{
 "cells": [
  {
   "cell_type": "markdown",
   "id": "94f4df4d",
   "metadata": {},
   "source": [
    "### Taller 4 - Regresiones multiples\n",
    "\n",
    "Para solucionar los siguientes enunciados es necesario platear, de ser posible, la(s) variable(s) a utilizar o eventos, el modelo y sus respectivas partes. Adem ́as su solución debe ser un solo archivo en PDF que debe incluir el planteamiento, solución, el código en Python utilzado para su solución e interpretación."
   ]
  },
  {
   "cell_type": "code",
   "execution_count": 11,
   "id": "0cf12e87",
   "metadata": {},
   "outputs": [],
   "source": [
    "#El jefe de personal de una agencia gubernamental administr ́o cuatro pruebas de ap-titud a cada uno de los 25 aspirantes a cargos administrativos en la agencia. \n",
    "# Para el propósito del estudio, se aceptaron a todos los aspirantes para 25 posiciones independiente de sus puntajes en las pruebas. \n",
    "# Después de un período de prueba, cada aspirante fue evaluado en su habilidad de trabajo. El puntaje obtenido relativo a la habilidad laboral(Y) \n",
    "# y los puntajes en las cuatro pruebas (X1, X2, X3, X4) están consignados en el archivo adjunto.\n",
    "\n",
    "#Emplee el análisis de regresión lineal múltiple para obtener una ecuación de regresión estimada que sirva para pronosticar la habilidad laboral, dadas las demás variables (Xi).\n",
    "\n",
    "import pandas as pd\n",
    "import matplotlib.pyplot as plt\n",
    "import statsmodels.api as sm\n",
    "\n",
    "BDTaller5 = pd.read_csv(r\"C:\\Users\\DanielGP\\OneDrive - Caja de Compensacion Familiar de Antioquia COMFAMA\\Tendencias\\Personal\\Especialización\\Materias\\Estadística\\Base Trabajo4 2025 2.csv\", sep=';')\n",
    "\n",
    "\n",
    "#Agregamos el BDTaller5 al explorer\n",
    "import os\n",
    "os.chdir(r\"C:\\Users\\DanielGP\\OneDrive - Caja de Compensacion Familiar de Antioquia COMFAMA\\Documentos\\GitHub\\Estadistica_DGP\")\n",
    "BDTaller5.to_csv('BDTaller5.csv', index=False)"
   ]
  },
  {
   "cell_type": "code",
   "execution_count": null,
   "id": "6d0f6aba",
   "metadata": {},
   "outputs": [],
   "source": [
    "#a) Identifique observaciones que puedan considerarse problemáticas (datos atípicos,puntos de balanceo e influyentes) y analice si debe eliminarlas de su conjunto de\n",
    "#datos o no, justifique. Repita la construcción del modelo de regresión si eliminó observaciones.\n",
    "\n"
   ]
  }
 ],
 "metadata": {
  "kernelspec": {
   "display_name": "Python 3",
   "language": "python",
   "name": "python3"
  },
  "language_info": {
   "codemirror_mode": {
    "name": "ipython",
    "version": 3
   },
   "file_extension": ".py",
   "mimetype": "text/x-python",
   "name": "python",
   "nbconvert_exporter": "python",
   "pygments_lexer": "ipython3",
   "version": "3.13.4"
  }
 },
 "nbformat": 4,
 "nbformat_minor": 5
}
